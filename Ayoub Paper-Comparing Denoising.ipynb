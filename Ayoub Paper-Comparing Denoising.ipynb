{
 "cells": [
  {
   "cell_type": "code",
   "execution_count": 1,
   "id": "0923cf9f",
   "metadata": {},
   "outputs": [
    {
     "name": "stdout",
     "output_type": "stream",
     "text": [
      "Thu Jul 28 09:52:57 2022       \n",
      "+-----------------------------------------------------------------------------+\n",
      "| NVIDIA-SMI 440.118.02   Driver Version: 440.118.02   CUDA Version: 10.2     |\n",
      "|-------------------------------+----------------------+----------------------+\n",
      "| GPU  Name        Persistence-M| Bus-Id        Disp.A | Volatile Uncorr. ECC |\n",
      "| Fan  Temp  Perf  Pwr:Usage/Cap|         Memory-Usage | GPU-Util  Compute M. |\n",
      "|===============================+======================+======================|\n",
      "|   0  TITAN X (Pascal)    Off  | 00000000:03:00.0 Off |                  N/A |\n",
      "| 24%   43C    P8    18W / 250W |      0MiB / 12194MiB |      0%      Default |\n",
      "+-------------------------------+----------------------+----------------------+\n",
      "|   1  TITAN X (Pascal)    Off  | 00000000:04:00.0 Off |                  N/A |\n",
      "| 24%   44C    P8    11W / 250W |      0MiB / 12196MiB |      0%      Default |\n",
      "+-------------------------------+----------------------+----------------------+\n",
      "|   2  TITAN Xp            Off  | 00000000:81:00.0 Off |                  N/A |\n",
      "| 24%   43C    P8    10W / 250W |      0MiB / 12196MiB |      0%      Default |\n",
      "+-------------------------------+----------------------+----------------------+\n",
      "|   3  TITAN Xp            Off  | 00000000:82:00.0 Off |                  N/A |\n",
      "| 61%   84C    P2   233W / 250W |  11671MiB / 12196MiB |    100%      Default |\n",
      "+-------------------------------+----------------------+----------------------+\n",
      "                                                                               \n",
      "+-----------------------------------------------------------------------------+\n",
      "| Processes:                                                       GPU Memory |\n",
      "|  GPU       PID   Type   Process name                             Usage      |\n",
      "|=============================================================================|\n",
      "|    3     26271      C   python                                     11661MiB |\n",
      "+-----------------------------------------------------------------------------+\n",
      "fatal: le chemin de destination 'morpholayers' existe déjà et n'est pas un répertoire vide.\n"
     ]
    }
   ],
   "source": [
    "!nvidia-smi\n",
    "!git clone https://github.com/Jacobiano/morpholayers.git"
   ]
  },
  {
   "cell_type": "code",
   "execution_count": 2,
   "id": "19b5d21c",
   "metadata": {},
   "outputs": [
    {
     "name": "stdout",
     "output_type": "stream",
     "text": [
      "2.4.1\n",
      "It should be >= 2.0.0.\n",
      "[PhysicalDevice(name='/physical_device:GPU:0', device_type='GPU'), PhysicalDevice(name='/physical_device:GPU:1', device_type='GPU'), PhysicalDevice(name='/physical_device:GPU:2', device_type='GPU'), PhysicalDevice(name='/physical_device:GPU:3', device_type='GPU')]\n",
      "[LogicalDevice(name='/device:GPU:0', device_type='GPU')]\n"
     ]
    }
   ],
   "source": [
    "import tensorflow as tf\n",
    "print(tf.__version__)\n",
    "print('It should be >= 2.0.0.')\n",
    "print(tf.config.experimental.list_physical_devices('GPU'))\n",
    "physical_devices = tf.config.list_physical_devices('GPU')\n",
    "tf.config.set_visible_devices(physical_devices[1], 'GPU')\n",
    "logical_devices = tf.config.list_logical_devices('GPU')\n",
    "print(logical_devices)\n",
    "import tensorflow.keras.models as km\n",
    "import tensorflow.keras.layers as kl\n",
    "from tensorflow.keras.callbacks import *\n",
    "from tensorflow.python.keras import regularizers\n",
    "import morpholayers.layers as ml\n",
    "\n",
    "from tensorflow.keras.datasets import fashion_mnist, mnist, cifar10\n",
    "import matplotlib.pyplot as plt\n",
    "import numpy as np\n",
    "from tensorflow.keras import datasets\n",
    "import pandas as pd\n",
    "from PIL import Image\n",
    "import seaborn as sns"
   ]
  },
  {
   "cell_type": "code",
   "execution_count": 3,
   "id": "4ca99dbc",
   "metadata": {},
   "outputs": [],
   "source": [
    "class h_extrema_denoising_block_test_loss:\n",
    "    def __init__(self, rmax_reg_coeff = 1., hext_coeff = 1., \n",
    "                    train_shift=0.):\n",
    "        \n",
    "        self.hext_coeff = hext_coeff\n",
    "        self.rmax_reg_coeff = rmax_reg_coeff\n",
    "        self.train_shift = train_shift\n",
    "\n",
    "    def h_extrema_denoising_loss(self, y_true, y_pred):\n",
    "        #squared_difference = tf.square(y_true - y_pred)\n",
    "        #return tf.reduce_mean(squared_difference)\n",
    "        y_pred = tf.cast(y_pred, tf.double)\n",
    "        y_true = tf.cast(y_true, tf.double)\n",
    "        #print('h_extrema_denoising_loss : y_pred.shape',y_pred.shape)\n",
    "        #print('h_extrema_denoising_loss : y_true.shape',y_true.shape)\n",
    "        return self.hext_coeff * tf.reduce_mean(tf.math.squared_difference(y_true, y_pred)) #+self.train_shift))\n",
    "        \n",
    "    def rmax_reg_loss(self, y_true, y_pred):\n",
    "        #print('rmax_reg_loss : y_pred.shape',y_pred.shape)\n",
    "        #print('rmax_reg_loss : y_pred.shape',y_true.shape)\n",
    "        y_pred = tf.cast(y_pred, tf.double)\n",
    "        y = tf.cast(y_true, tf.double)\n",
    "        y_temp = y\n",
    "        #y = -tf.keras.layers.MaxPooling2D(pool_size=(3, 3),strides=(1,1),padding='same')(-y)\n",
    "        #y = tf.keras.layers.MaxPooling2D(pool_size=(3, 3),strides=(1,1),padding='same')(y)\n",
    "        y = kl.Lambda(ml.region_maxima_transform)(y)\n",
    "        y = kl.Multiply(name=\"r_max_reg\")([y_temp, 255.*y])\n",
    "        y = tf.cast(y, tf.double)\n",
    "        \n",
    "        return self.rmax_reg_coeff * tf.reduce_mean(tf.math.squared_difference(y_pred,y))\n",
    "\n",
    "    def __call__(self):\n",
    "        return {\"mse_denoising\":  self.h_extrema_denoising_loss\n",
    "                ,\"r_max_reg\": self.rmax_reg_loss}\n"
   ]
  },
  {
   "cell_type": "code",
   "execution_count": 4,
   "id": "37fb1639",
   "metadata": {},
   "outputs": [],
   "source": [
    "class DatasetMNIST():\n",
    "    def __init__(self, mode=\"classification\", noise_train={\"mean\":0, \"std\":[0]}, \n",
    "                noise_val={\"mean\":0, \"std\":[0]}, reconstruction=True,\n",
    "                noise=None, shuffle=True, name=\"\",  X=None, X_noised=None, y=None,\n",
    "                buffer_size=10000):\n",
    "        self.noise = noise\n",
    "        self.name = name\n",
    "        self.noise_train = noise_train\n",
    "        self.noise_val = noise_val\n",
    "        self.mode = mode\n",
    "        self.X = X\n",
    "        self.X_noised = X_noised\n",
    "        self.y = y\n",
    "        self.rec = reconstruction\n",
    "\n",
    "\n",
    "    def create_dataset_from_data(self, X=None, X_noised=None, y=None):\n",
    "        if self.mode == \"classification\":\n",
    "            return tf.data.Dataset.from_tensor_slices((X_noised, y))\n",
    "            \n",
    "        return tf.data.Dataset.from_tensor_slices((X_noised, \n",
    "                                                    {\n",
    "                                            \"denoising\":X          \n",
    "                                            }))\n",
    "    def build_dataset(self, X, X_noised, y, shuffle, buffer_size, batch_size):  \n",
    "        dataset = self.create_dataset_from_data(X, X_noised, y)\n",
    "\n",
    "        dataset = dataset.cache()\n",
    "        if shuffle:\n",
    "            dataset = dataset.shuffle(buffer_size, reshuffle_each_iteration=True)\n",
    "\n",
    "\n",
    "        return dataset\n",
    "    \n",
    "    def __call__(self, batch_size=256, shuffle=True, buffer_size=1000, val_prop=0.2):\n",
    "        X, X_noised, y = self.X, self.X_noised, self.y\n",
    "        dataset = self.build_dataset(X, X_noised, y, shuffle, buffer_size, batch_size)\n",
    "        train_dataset = dataset.skip(int(len(X) * val_prop))\n",
    "        val_dataset = dataset.take(int(len(X) * val_prop)) \n",
    "        \n",
    "        train_dataset = train_dataset.batch(batch_size)\n",
    "        train_dataset = train_dataset.prefetch(tf.data.AUTOTUNE)\n",
    "        \n",
    "        val_dataset = val_dataset.batch(batch_size)\n",
    "        val_dataset = val_dataset.prefetch(tf.data.AUTOTUNE)\n",
    "\n",
    "        return train_dataset, val_dataset"
   ]
  },
  {
   "cell_type": "code",
   "execution_count": 5,
   "id": "84a85165",
   "metadata": {},
   "outputs": [],
   "source": [
    "class DatasetMNIST_MORPHO_REG():\n",
    "    def __init__(self, mode=\"classification\", noise_train={\"mean\":0, \"std\":[0]}, \n",
    "                noise_val={\"mean\":0, \"std\":[0]}, reconstruction=True,\n",
    "                noise=None, shuffle=True, name=\"\",  X=None, X_noised=None, y=None,\n",
    "                buffer_size=10000):\n",
    "        self.noise = noise\n",
    "        self.name = name\n",
    "        self.noise_train = noise_train\n",
    "        self.noise_val = noise_val\n",
    "        self.mode = mode\n",
    "        self.X = X\n",
    "        self.X_noised = X_noised\n",
    "        self.y = y\n",
    "        self.rec = reconstruction\n",
    "\n",
    "\n",
    "    def create_dataset_from_data(self, X=None, X_noised=None, y=None):\n",
    "        if self.mode == \"classification\":\n",
    "            return tf.data.Dataset.from_tensor_slices((X_noised, y))\n",
    "            \n",
    "        return tf.data.Dataset.from_tensor_slices((X_noised, {\"mse_denoising\":X,\"r_max_reg\":X}))\n",
    "    def build_dataset(self, X, X_noised, y, shuffle, buffer_size, batch_size):  \n",
    "        dataset = self.create_dataset_from_data(X, X_noised, y)\n",
    "\n",
    "        dataset = dataset.cache()\n",
    "        if shuffle:\n",
    "            dataset = dataset.shuffle(buffer_size, reshuffle_each_iteration=True)\n",
    "\n",
    "\n",
    "        return dataset\n",
    "    \n",
    "    def __call__(self, batch_size=256, shuffle=True, buffer_size=1000, val_prop=0.2):\n",
    "        X, X_noised, y = self.X, self.X_noised, self.y\n",
    "        dataset = self.build_dataset(X, X_noised, y, shuffle, buffer_size, batch_size)\n",
    "        train_dataset = dataset.skip(int(len(X) * val_prop))\n",
    "        val_dataset = dataset.take(int(len(X) * val_prop)) \n",
    "        \n",
    "        train_dataset = train_dataset.batch(batch_size)\n",
    "        train_dataset = train_dataset.prefetch(tf.data.AUTOTUNE)\n",
    "        \n",
    "        val_dataset = val_dataset.batch(batch_size)\n",
    "        val_dataset = val_dataset.prefetch(tf.data.AUTOTUNE)\n",
    "\n",
    "        return train_dataset, val_dataset"
   ]
  },
  {
   "cell_type": "code",
   "execution_count": 6,
   "id": "34e28d71",
   "metadata": {},
   "outputs": [],
   "source": [
    "class Hextrema(tf.keras.layers.Layer):\n",
    "    def __init__(self, **kwargs):\n",
    "        super(Hextrema, self).__init__(**kwargs)\n",
    "\n",
    "    def build(self, input_shape):\n",
    "        super(Hextrema, self).build(input_shape)\n",
    "\n",
    "    def call(self, x):\n",
    "        return ml.h_maxima_transform([x[0], x[1]])"
   ]
  },
  {
   "cell_type": "code",
   "execution_count": 7,
   "id": "1cb3195c",
   "metadata": {},
   "outputs": [],
   "source": [
    "class CNN_denoising_block(tf.keras.Model):\n",
    "    def __init__(self, dropout=0.1, name=\"CNN_denoising_rec\"):       \n",
    "        super(CNN_denoising_block, self).__init__(name=name)\n",
    "        self.conv1 = kl.Conv2D(24, kernel_size=(3,3), padding=\"same\",activation='relu')\n",
    "        self.conv2 = kl.Conv2D(24, kernel_size=(3,3), padding=\"same\",activation='relu')\n",
    "        self.dense = kl.Dense(1, name=\"denoising\")\n",
    "        self.batchnorm1 = kl.BatchNormalization()\n",
    "        self.batchnorm2 = kl.BatchNormalization()\n",
    "\n",
    "    def call(self, input_tensor):\n",
    "        x = self.conv1(input_tensor)\n",
    "        x = self.batchnorm1(x)\n",
    "        x = tf.nn.relu(x)\n",
    "        x = self.conv2(x)\n",
    "        x = self.batchnorm2(x)\n",
    "        x = tf.nn.relu(x)\n",
    "        x = self.dense(x)\n",
    "        return x"
   ]
  },
  {
   "cell_type": "code",
   "execution_count": 8,
   "id": "05364d48",
   "metadata": {},
   "outputs": [],
   "source": [
    "class h_extrema_denoising_block(tf.keras.Model):\n",
    "    def __init__(self, dropout=0.1, name=\"mse_denoising\"):       \n",
    "        super(h_extrema_denoising_block, self).__init__(name=name)\n",
    "        self.conv1 = kl.Conv2D(12, kernel_size=(3,3), padding=\"valid\")\n",
    "        self.conv2 = kl.Conv2D(1, kernel_size=(3,3), padding=\"valid\")\n",
    "        self.maxpooling = kl.MaxPool2D(pool_size=(2,2), padding=\"valid\")\n",
    "        self.dropout = kl.Dropout(dropout)\n",
    "        #self.globalavgpooling = kl.GlobalAveragePooling2D(data_format='channels_last')\n",
    "        self.globalavgpooling = kl.GlobalMaxPooling2D(data_format='channels_last')\n",
    "        self.dense = kl.Dense(1,kernel_constraint=tf.keras.constraints.NonNeg(),name=\"h_denoising\")\n",
    "        self.h_extrema_transform = Hextrema()\n",
    "        self.batchnorm1 = kl.BatchNormalization()\n",
    "        self.batchnorm2 = kl.BatchNormalization()\n",
    "\n",
    "    def call(self, input_tensor):\n",
    "        x = self.conv1(input_tensor)\n",
    "        #x = self.batchnorm1(x)\n",
    "        x = tf.nn.relu(x)\n",
    "        x = self.conv2(x)\n",
    "        #x = self.batchnorm2(x)\n",
    "        #x = tf.nn.relu(x)\n",
    "        #x = self.maxpooling(x)\n",
    "        x = self.globalavgpooling(x)\n",
    "        #x = self.dropout(x)\n",
    "        x = self.dense(x)\n",
    "        #x = tf.nn.relu(x)\n",
    "        h = tf.expand_dims(tf.expand_dims(x,axis=-1),axis=-1)\n",
    "        return h"
   ]
  },
  {
   "cell_type": "code",
   "execution_count": 9,
   "id": "897b2b24",
   "metadata": {},
   "outputs": [],
   "source": [
    "class MyRegularizer(regularizers.Regularizer):\n",
    "    \n",
    "    def __init__(self, regul, regul_l1, regul_log):\n",
    "        self.strength = regul\n",
    "        self.l1 = regul_l1\n",
    "        self.log = regul_log\n",
    "\n",
    "    def __call__(self, x):\n",
    "        return  tf.cast(self.strength * tf.reduce_mean(tf.math.square(x)) + \n",
    "                        self.l1 * tf.reduce_mean(tf.math.abs(x)) + \n",
    "                        self.log * tf.reduce_mean(tf.math.log(tf.math.abs(x) + 1)), tf.double) \n",
    "    \n",
    "    def get_config(self):\n",
    "        return {'strength': self.strength, 'l1': self.l1, 'log': self.log}\n"
   ]
  },
  {
   "cell_type": "code",
   "execution_count": 10,
   "id": "a05cf3b8",
   "metadata": {},
   "outputs": [],
   "source": [
    "class denoising_model_CNN:\n",
    "    def __init__(self, n_epoch_nn = 1, train_batch_size=128, \n",
    "                test_batch_size=256, lr_nn=1e-3, size_input=(None,None,1), \n",
    "                lamb = 0., name=\"NO NAME SPECIFIED\", noise_std=0.1,\n",
    "                train_shift=0., dropout=0.1, \n",
    "                dropout_in=0.):\n",
    "\n",
    "        # Defining Classifier Parameters\n",
    "        self.n_epoch_nn = n_epoch_nn\n",
    "        self.train_batch_size = train_batch_size\n",
    "        self.test_batch_size = test_batch_size\n",
    "        self.lr_nn = lr_nn\n",
    "        self.size_input = size_input\n",
    "        self.name = name\n",
    "        \n",
    "        self.denoising_block = CNN_denoising_block(name=\"denoising\", dropout=dropout)\n",
    "        print(\"Creating architecture of \", name, \"  ...\")\n",
    "        # neural network loss\n",
    "        self.loss_nn = tf.keras.losses.MeanSquaredError()\n",
    "\n",
    "        # --------NETWORK ARCHITECTURE ----------\n",
    "        xin=kl.Input(shape=tf.TensorShape(size_input), dtype=tf.double)\n",
    "        xin_noised = train_shift +xin + tf.cast(tf.abs(kl.GaussianNoise(noise_std)(tf.zeros_like(xin))), tf.double)\n",
    "        \n",
    "        if dropout_in >0.:\n",
    "            xin_noised = kl.ReLU()(kl.GaussianDropout(dropout_in)(xin_noised))\n",
    "        output_denoising=self.denoising_block(xin_noised)\n",
    "        #h = self.h_extrema_denoising_block(xin_noised)\n",
    "        #h = kl.ReLU(activity_regularizer=MyRegularizer(regul_l1=regul_l1, regul=regul, regul_log=regul_log))(h) \n",
    "        \n",
    "        # h_origin = self.h_extrema_denoising_block(xin)\n",
    "        # h_origin = kl.ReLU(activity_regularizer=MyRegularizer(regul_l1=regul_l1_or, regul=regul_or, regul_log=regul_log_or))(h_origin) \n",
    "        #output_h_denoising = Hextrema(name=\"h_extrema_denoising_rec\")([h, xin_noised])\n",
    "        #rmax_reg = kl.Lambda(ml.region_maxima_transform)(output_h_denoising)\n",
    "        #rmax_reg = kl.Multiply(name=\"r_max_reg\")([output_h_denoising, 255.*rmax_reg])\n",
    "\n",
    "        # Models Creation\n",
    "        self.nn_output_h_denoising = km.Model(xin, output_denoising, name=\"output_h_denoising\")\n",
    "        self.nn = km.Model(xin, output_denoising)\n",
    "        \n",
    "        #self.nn_output_h_denoising = km.Model(xin, output_h_denoising, name=\"output_h_denoising\")\n",
    "        #[output_h_denoising, rmax_reg])\n",
    "        #self.nn_r_max = km.Model(xin, rmax_reg)\n",
    "        #self.nn_output_h_denoising = km.Model(xin, output_h_denoising, name=\"output_h_denoising\")\n",
    "        #self.nn_h = km.Model(xin, h)\n",
    "\n",
    "        # Optimizer, learning rate and loss choices\n",
    "        self.nn_opt = tf.keras.optimizers.Adam(learning_rate=self.lr_nn)\n",
    "        self.nn.compile(optimizer=self.nn_opt, \n",
    "                        loss=self.loss_nn)\n",
    "        print(\"Done\\n\")\n",
    "\n",
    "\n",
    "    #def predict_h(self, X):\n",
    "    #    return tf.convert_to_tensor(self.nn_h.predict(X), tf.double)\n",
    "    \n",
    "    #def predict_H(self, X):\n",
    "    #    return tf.convert_to_tensor(self.nn_H.predict(X), tf.double)\n",
    "\n",
    "    #def predict_r_max(self, X):\n",
    "    #    return tf.convert_to_tensor(self.nn_r_max.predict(X), tf.double)\n",
    "\n",
    "    def predict_output_h_denoising(self, X):\n",
    "        return tf.convert_to_tensor(self.nn.predict(X), \n",
    "                                    tf.double)\n",
    "    #def predict_output_H_denoising(self, X):\n",
    "    #    return tf.convert_to_tensor(self.nn_out_H.predict(X), \n",
    "    #                                tf.double)\n",
    "\n",
    "    def train(self, train_dataset, val_dataset, verbose=1):\n",
    "        if verbose == 1:\n",
    "            self.nn.summary()\n",
    "\n",
    "        #Callback definition\n",
    "        CBs=[EarlyStopping(monitor='val_loss', patience=30,\n",
    "                        restore_best_weights=True),\n",
    "            tf.keras.callbacks.ReduceLROnPlateau(monitor='val_loss',\n",
    "                                                factor=0.1,patience=10,\n",
    "                                                min_lr=0.00001)]\n",
    "        #Training the model\n",
    "        self.historyi = self.nn.fit(x=train_dataset, \n",
    "                                    validation_data=val_dataset, \n",
    "                                    epochs=self.n_epoch_nn)#, callbacks=[CBs])"
   ]
  },
  {
   "cell_type": "code",
   "execution_count": 18,
   "id": "01641f44",
   "metadata": {},
   "outputs": [],
   "source": [
    "class denoising_model:\n",
    "    def __init__(self, n_epoch_nn = 1, train_batch_size=128, \n",
    "                test_batch_size=256, lr_nn=1e-3, size_input=(28,28,1),#size_input=(None,None,1), \n",
    "                lamb = 0., name=\"NO NAME SPECIFIED\", noise_std=0.1,\n",
    "                reconstruction_steps=-1, hext_coeff=1., rmax_reg_coeff=1.,\n",
    "                train_shift=0., regul = 0.1, regul_l1=0., regul_log=0.1, regul_or = 0.1, regul_l1_or=0., regul_log_or=0.1, dropout=0.1, \n",
    "                dropout_in=0.):\n",
    "\n",
    "        # Defining Classifier Parameters\n",
    "        self.n_epoch_nn = n_epoch_nn\n",
    "        self.train_batch_size = train_batch_size\n",
    "        self.test_batch_size = test_batch_size\n",
    "        self.lr_nn = lr_nn\n",
    "        self.size_input = size_input\n",
    "        self.name = name\n",
    "        \n",
    "        self.h_extrema_denoising_block = h_extrema_denoising_block(name=\"t\", dropout=dropout)\n",
    "\n",
    "        print(\"Creating architecture of \", name, \"  ...\")\n",
    "        # neural network loss\n",
    "        self.loss_nn = h_extrema_denoising_block_test_loss(\n",
    "            hext_coeff=hext_coeff, rmax_reg_coeff=rmax_reg_coeff, \n",
    "            train_shift = train_shift\n",
    "            )()\n",
    "        \n",
    "        #self.loss_nn=tf.keras.losses.MeanSquaredError() #,tf.keras.losses.BinaryCrossentropy()]\n",
    "\n",
    "        # --------NETWORK ARCHITECTURE ----------\n",
    "        xin=kl.Input(shape=tf.TensorShape(size_input), dtype=tf.double)\n",
    "        xin_noised = train_shift +xin + tf.cast(tf.abs(kl.GaussianNoise(noise_std)(tf.zeros_like(xin))), tf.double)\n",
    "        \n",
    "        if dropout_in >0.:\n",
    "            xin_noised = kl.ReLU()(kl.GaussianDropout(dropout_in)(xin_noised))\n",
    "        h = self.h_extrema_denoising_block(xin_noised)\n",
    "        #h = kl.ReLU(activity_regularizer=MyRegularizer(regul_l1=regul_l1, regul=regul, regul_log=regul_log))(h) \n",
    "        #h = tf.math.maxim(.01,h)\n",
    "        # h_origin = self.h_extrema_denoising_block(xin)\n",
    "        # h_origin = kl.ReLU(activity_regularizer=MyRegularizer(regul_l1=regul_l1_or, regul=regul_or, regul_log=regul_log_or))(h_origin) \n",
    "        output_h_denoising = Hextrema(name=\"mse_denoising\")([h, xin_noised])\n",
    "        rmax_reg = kl.Lambda(ml.region_maxima_transform)(output_h_denoising)\n",
    "        #rmax_reg = kl.Multiply(name=\"r_max_reg\")([output_h_denoising, rmax_reg])\n",
    "        rmax_reg = kl.Multiply(name=\"r_max_reg\")([output_h_denoising, 255.*rmax_reg])\n",
    "        #rmax_reg = kl.MaxPool2D(pool_size=(2,2), padding=\"valid\",name=\"r_max_reg\")(rmax_reg)\n",
    "        # Models Creation\n",
    "        self.nn = km.Model(xin, [output_h_denoising, rmax_reg])\n",
    "        self.nn_r_max = km.Model(xin, rmax_reg)\n",
    "        self.nn_output_h_denoising = km.Model(xin, output_h_denoising, name=\"output_h_denoising\")\n",
    "        self.nn_h = km.Model(xin, h)\n",
    "\n",
    "        # Optimizer, learning rate and loss choices\n",
    "        self.nn_opt = tf.keras.optimizers.Adam(learning_rate=self.lr_nn)\n",
    "        #self.nn.compile(optimizer=self.nn_opt,\n",
    "        #                loss={'mse_denoising': 'mse', 'r_max_reg': 'mae'},\n",
    "        #                loss_weights={'mse_denoising': 1., 'r_max_reg': 1.})\n",
    "        self.nn.compile(optimizer=self.nn_opt,\n",
    "                        loss=self.loss_nn)\n",
    "        print(\"Done\\n\")\n",
    "        self.nn.summary()\n",
    "\n",
    "    \n",
    "    def predict_h(self, X):\n",
    "        return tf.convert_to_tensor(self.nn_h.predict(X), tf.double)\n",
    "\n",
    "    \n",
    "    def predict_r_max(self, X):\n",
    "        return tf.convert_to_tensor(self.nn_r_max.predict(X), tf.double)\n",
    "\n",
    "    def predict_output_h_denoising(self, X):\n",
    "        return tf.convert_to_tensor(self.nn_output_h_denoising.predict(X), \n",
    "                                    tf.double)\n",
    "    #def predict_H(self, X):\n",
    "    #    return tf.convert_to_tensor(self.nn_H.predict(X), tf.double)\n",
    "\n",
    "\n",
    "    #def predict_output_H_denoising(self, X):\n",
    "    #    return tf.convert_to_tensor(self.nn_out_H.predict(X), \n",
    "    #                                tf.double)\n",
    "\n",
    "    def train(self, train_dataset, val_dataset, verbose=1):\n",
    "        #if verbose == 1:\n",
    "        #    self.nn.summary()\n",
    "\n",
    "        #Callback definition\n",
    "        CBs=[EarlyStopping(monitor='val_loss', patience=30,restore_best_weights=True),\n",
    "            tf.keras.callbacks.ReduceLROnPlateau(monitor='val_loss',\n",
    "                                                factor=0.1,patience=10,\n",
    "                                                min_lr=0.00001)]\n",
    "        #Training the model\n",
    "        self.historyi = self.nn.fit(x=train_dataset, \n",
    "                                    validation_data=val_dataset, \n",
    "                                    epochs=self.n_epoch_nn, callbacks=[CBs]\n",
    "                                    )\n",
    "        \n"
   ]
  },
  {
   "cell_type": "code",
   "execution_count": 11,
   "id": "548f433f",
   "metadata": {},
   "outputs": [],
   "source": [
    "def display_random_dataset_sample_rec(L, n = 1, rand=True, lim=(0,1), col_title = []):\n",
    "    \"\"\"Display a sample of size n from a dataset (X, y)\n",
    "\n",
    "    Args:\n",
    "        X (tf.Tensor): data with shape (number of data, image width, image height, channel)\n",
    "        y (tf.tensor): labels\n",
    "        n (int, optional): Sample size. Defaults to 1.\n",
    "    \"\"\"\n",
    "    expand = len(L) == 1\n",
    "    L = [tens.numpy() for tens in L]\n",
    "    len_dataset = len(L[0])\n",
    "    if rand == True:\n",
    "        p = np.random.permutation(len_dataset)\n",
    "        L = [elem[p] for elem in L]\n",
    "    nb_subplots = len(L)\n",
    "    L = np.stack(L)\n",
    "    if expand: L=np.expand_dims(L, axis=0)\n",
    "    \n",
    "    if col_title == []:  col_title=[\"\" for i in range(len(L))]\n",
    "    \n",
    "    plt.figure(figsize=(16,14))\n",
    "    for j in range(1, nb_subplots+1):\n",
    "        for i in range(n):\n",
    "            plt.subplot(n, nb_subplots, nb_subplots*i+j)\n",
    "            if L.shape[3] == 1:\n",
    "                \n",
    "                plt.plot(L[j-1, i,:,0,0])\n",
    "            else:\n",
    "                plt.axis('off')\n",
    "                if lim==(0,0):\n",
    "                    plt.imshow(L[j-1,i,:,:,:])\n",
    "                else:\n",
    "                    plt.imshow(L[j-1,i,:,:,:], clim=lim)\n",
    "            if i == 0:\n",
    "                plt.title(col_title[j-1])\n",
    "    plt.show()"
   ]
  },
  {
   "cell_type": "code",
   "execution_count": 12,
   "id": "74e83c5a",
   "metadata": {},
   "outputs": [],
   "source": [
    "def test(classification_nn):\n",
    "    h_pred_1_denoised=[]\n",
    "    \n",
    "    print(\"------------FOLDED NOISE-----------\")\n",
    "    _, (x_test, y_test) = mnist.load_data()\n",
    "    X, y = x_test/255., y_test\n",
    "    X, y = tf.cast(tf.convert_to_tensor(X), tf.double), tf.cast(tf.convert_to_tensor(y), tf.double)\n",
    "    absi = tf.linspace(0.,1,10)\n",
    "    for i in absi:\n",
    "        X_pred, y_pred_true = tf.expand_dims(X, axis=3), tf.convert_to_tensor(tf.keras.utils.to_categorical(y))\n",
    "        X_pred = X_pred+tf.cast(tf.abs(kl.GaussianNoise(i)(tf.zeros(shape=tf.TensorShape(X_pred.shape)), training=True)), tf.double)\n",
    "        h_pred_denoised = classification_nn.predict_h(X_pred)\n",
    "        h_pred_1_denoised.append(h_pred_denoised) \n",
    "\n",
    "    hb_denoised_mnist = tf.concat(h_pred_1_denoised, axis=1)\n",
    "\n",
    "    plt.figure(figsize=(15, 5))\n",
    "    plt.title('h boxplot for MNIST')\n",
    "    plt.ylabel('h')\n",
    "    plt.xlabel('Folded noise deviation')\n",
    "    \n",
    "    plt.grid()\n",
    "    plt.boxplot(hb_denoised_mnist.numpy())\n",
    "    plt.xticks([0,1,2,3,4,5,6,7,8,9,], [0, 0.1, 0.2, 0.3, 0.4, 0.5, 0.6, 0.7, 0.8, 0.9])\n",
    "    plt.show()\n",
    "    \n",
    "\n",
    "    h_pred_1_denoised=[]\n",
    "    \n",
    "    print(\"------------FOLDED NOISE-----------\")\n",
    "    _, (x_test, y_test) = mnist.load_data()\n",
    "    X, y = x_test/255., y_test\n",
    "    X, y = tf.cast(tf.convert_to_tensor(X), tf.double), tf.cast(tf.convert_to_tensor(y), tf.double)\n",
    "    absi = tf.linspace(0.,1,10)\n",
    "    for i in absi:\n",
    "        X_pred, y_pred_true = tf.expand_dims(X, axis=3), tf.convert_to_tensor(tf.keras.utils.to_categorical(y))\n",
    "        X_pred = X_pred+tf.multiply(X_pred, tf.cast(tf.abs(kl.GaussianNoise(i)(tf.zeros(shape=tf.TensorShape(X_pred.shape)), training=True)), tf.double))\n",
    "        h_pred_denoised = classification_nn.predict_h(X_pred)\n",
    "        h_pred_1_denoised.append(h_pred_denoised) \n",
    "\n",
    "    hb_denoised_mnist = tf.concat(h_pred_1_denoised, axis=1)\n",
    "\n",
    "    plt.figure(figsize=(15, 5))\n",
    "    plt.title('h boxplot for MNIST')\n",
    "    plt.ylabel('h')\n",
    "    plt.xlabel('Folded noise deviation')\n",
    "    \n",
    "    plt.grid()\n",
    "    plt.boxplot(hb_denoised_mnist.numpy())\n",
    "    plt.xticks([0,1,2,3,4,5,6,7,8,9,], [0, 0.1, 0.2, 0.3, 0.4, 0.5, 0.6, 0.7, 0.8, 0.9])\n",
    "    plt.show()\n",
    "\n",
    "\n",
    "    # h_pred_1_denoised=[]\n",
    "\n",
    "    # _, (x_test, y_test) = fashion_mnist.load_data()\n",
    "    # X, y = x_test/255., y_test\n",
    "    # X, y = tf.cast(tf.convert_to_tensor(X), tf.double), tf.cast(tf.convert_to_tensor(y), tf.double)\n",
    "    # absi = tf.linspace(0.,1,10)\n",
    "    # for i in absi:\n",
    "    #     X_pred, y_pred_true = tf.expand_dims(X, axis=3), tf.convert_to_tensor(tf.keras.utils.to_categorical(y))\n",
    "    #     X_pred = X_pred+tf.cast(tf.abs(kl.GaussianNoise(i)(tf.zeros(shape=tf.TensorShape(X_pred.shape)), training=True)), tf.double)\n",
    "    #     h_pred_denoised = classification_nn.predict_h(X_pred)\n",
    "    #     h_pred_1_denoised.append(h_pred_denoised) \n",
    "\n",
    "    # hb_denoised_fashion_mnist = tf.concat(h_pred_1_denoised, axis=1)\n",
    "\n",
    "    # # plt.figure(figsize=(15, 5))\n",
    "    # # plt.title('h boxplot for Fashion MNIST')\n",
    "    # # plt.ylabel('h')\n",
    "    # # plt.xlabel('Folded noise deviation')\n",
    "    \n",
    "    # # plt.grid()\n",
    "    # # plt.boxplot(hb_denoised_fashion_mnist.numpy())\n",
    "    # # plt.xticks([0,1,2,3,4,5,6,7,8,9,10], [0, 0.1, 0.2, 0.3, 0.4, 0.5, 0.6, 0.7, 0.8, 0.9, 1.])\n",
    "    # # plt.show()\n",
    "    \n",
    "    # # (X, y), _ = mnist.load_data()\n",
    "    # _, (X, y) = datasets.cifar10.load_data()\n",
    "    # h_pred_1_denoised=[]\n",
    "    # # Normalize pixel values to be between 0 and 1\n",
    "    # X = tf.convert_to_tensor(X/255.)\n",
    "    # X = tf.cast(tf.reduce_mean(X, axis=-1), tf.double)\n",
    "    # absi = tf.linspace(0.,1,10)\n",
    "    # for i in absi:\n",
    "    #     X_pred, y_pred_true = tf.expand_dims(X, axis=3), tf.convert_to_tensor(tf.keras.utils.to_categorical(y))\n",
    "    #     X_pred = X_pred+tf.cast(tf.abs(kl.GaussianNoise(i)(tf.zeros(shape=tf.TensorShape([10000,32,32,1])), training=True)), tf.double)\n",
    "    #     h_pred_denoised = classification_nn.predict_h(X_pred)\n",
    "    #     h_pred_1_denoised.append(h_pred_denoised) \n",
    "\n",
    "    # hb_denoised_cifar10 = tf.concat(h_pred_1_denoised, axis=1)\n",
    "\n",
    "    # plt.figure(figsize=(15, 5))\n",
    "    # plt.title('h boxplot for CIFAR10')\n",
    "    # plt.ylabel('h')\n",
    "    # plt.xlabel('Folded noise deviation')\n",
    "    \n",
    "    # plt.grid()\n",
    "    # plt.boxplot(hb_denoised_cifar10.numpy())\n",
    "    # plt.xticks([0,1,2,3,4,5,6,7,8,9,10], [0, 0.1, 0.2, 0.3, 0.4, 0.5, 0.6, 0.7, 0.8, 0.9, 1.])\n",
    "    # plt.show()\n",
    "    \n",
    "    # plt.figure(figsize=(15, 5))\n",
    "    # plt.boxplot(hb_denoised_fashion_mnist.numpy())\n",
    "    # plt.boxplot(hb_denoised_mnist.numpy())\n",
    "    # plt.boxplot(hb_denoised_cifar10.numpy())\n",
    "    # plt.title('h boxplot for MNIST, Fashion MNIST and CIFAR10')\n",
    "    # plt.ylabel('h')\n",
    "    # plt.xlabel('Folded noise deviation')\n",
    "    # plt.legend(['MNIST', 'Fashion MNIST', \"CIFAR10\"], loc='upper left')\n",
    "    # plt.xticks([0,1,2,3,4,5,6,7,8,9], [0, 0.1, 0.2, 0.3, 0.4, 0.5, 0.6, 0.7, 0.8, 0.9])\n",
    "    # plt.grid()\n",
    "    # plt.show()\n",
    "    \n",
    "    # h_pred_1_denoised=[]\n",
    "\n",
    "    # absi = tf.linspace(0.,1,10)\n",
    "    # for i in absi:\n",
    "    #     h_list = []\n",
    "    #     for image in im_data:\n",
    "    #         X_pred = image+tf.cast(tf.abs(kl.GaussianNoise(i)(tf.zeros(shape=tf.TensorShape(list(image.shape[0:3])+[1])), training=True)), tf.double)\n",
    "    #         X_pred = tf.reduce_mean(X_pred, axis=-1)\n",
    "    #         h_pred_denoised = denoising_mod.predict_h(X_pred)\n",
    "    #         h_list.append(float(h_pred_denoised))\n",
    "    #     h_pred_1_denoised.append(tf.expand_dims(tf.convert_to_tensor(h_list), axis=1)) \n",
    "\n",
    "    # hb_denoised_91image = tf.concat(h_pred_1_denoised, axis=1)\n",
    "\n",
    "    # plt.figure(figsize=(15, 5))\n",
    "    # plt.title('h boxplot for 91image')\n",
    "    # plt.ylabel('h')\n",
    "    # plt.xlabel('Folded noise deviation')\n",
    "\n",
    "    # plt.grid()\n",
    "    # plt.boxplot(hb_denoised_91image.numpy())\n",
    "    # plt.xticks([0,1,2,3,4,5,6,7,8,9,10], [0, 0.1, 0.2, 0.3, 0.4, 0.5, 0.6, 0.7, 0.8, 0.9, 1.])\n",
    "    # plt.show()\n",
    "    \n",
    "    # h_pred_1_denoised=[]\n",
    "\n",
    "    # absi = tf.linspace(0.,1,10)\n",
    "    # for i in absi:\n",
    "    #     h_list = []\n",
    "    #     for image in im_data2:\n",
    "    #         X_pred = image+tf.cast(tf.abs(kl.GaussianNoise(i)(tf.zeros(shape=tf.TensorShape(list(image.shape[0:3])+[1])), training=True)), tf.double)\n",
    "    #         X_pred = tf.reduce_mean(X_pred, axis=-1)\n",
    "    #         h_pred_denoised = denoising_mod.predict_h(X_pred)\n",
    "    #         h_list.append(float(h_pred_denoised))\n",
    "    #     h_pred_1_denoised.append(tf.expand_dims(tf.convert_to_tensor(h_list), axis=1)) \n",
    "\n",
    "    # hb_denoised_bsd300 = tf.concat(h_pred_1_denoised, axis=1)\n",
    "\n",
    "    # plt.figure(figsize=(15, 5))\n",
    "    # plt.title('h boxplot for BSD300')\n",
    "    # plt.ylabel('h')\n",
    "    # plt.xlabel('Folded noise deviation')\n",
    "\n",
    "    # plt.grid()\n",
    "    # plt.boxplot(hb_denoised_bsd300.numpy())\n",
    "    # plt.xticks([0,1,2,3,4,5,6,7,8,9,10], [0, 0.1, 0.2, 0.3, 0.4, 0.5, 0.6, 0.7, 0.8, 0.9, 1.])\n",
    "    # plt.show()\n",
    "    \n",
    "    # m, f, c, q, q2 = hb_denoised_mnist.numpy(), hb_denoised_fashion_mnist.numpy(), hb_denoised_cifar10.numpy(), hb_denoised_91image.numpy(), hb_denoised_bsd300.numpy()\n",
    "    # l = [0.0]*10000 + [0.1]*10000 + [0.2]*10000 + [0.3]*10000 + [0.4]*10000 + [0.5]*10000 + [0.6]*10000 + [0.7]*10000 + [0.8]*10000 + [0.9]*10000\n",
    "    # l = np.array(l)\n",
    "    # l2 = [0.0]*91 + [0.1]*91 + [0.2]*91 + [0.3]*91 + [0.4]*91 + [0.5]*91 + [0.6]*91 + [0.7]*91 + [0.8]*91 + [0.9]*91\n",
    "    # l3 = [0.0]*300 + [0.1]*300 + [0.2]*300 + [0.3]*300 + [0.4]*300 + [0.5]*300 + [0.6]*300 + [0.7]*300 + [0.8]*300 + [0.9]*300\n",
    "    # l2 = np.array(l2)\n",
    "    # l3 = np.array(l3)\n",
    "    # tot = np.concatenate([m.T.flatten(), f.T.flatten(), c.T.flatten(), q.T.flatten(), q2.T.flatten()], axis=0)\n",
    "    # l = np.concatenate([l, l, l, l2, l3], axis=0)\n",
    "    # tot = np.concatenate([np.expand_dims(tot, axis=1), np.expand_dims(l, axis=1)], axis=1)\n",
    "    # lab = [\"MNSIT\"]*100000 + [\"Fashion MNIST\"]*100000 + [\"CIFAR\"]*100000 + [\"91image\"]*910 + [\"BSD300\"]*3000\n",
    "    # lab = np.array(lab)\n",
    "    # tot = np.concatenate([tot, np.expand_dims(lab, axis=1)], axis=1)\n",
    "    # tot = pd.DataFrame(tot, columns=['h', 'deviation', \"dataset\"])\n",
    "    # tot = tot.astype({'deviation': 'float32', 'h': 'float32'})\n",
    "    # fig_dims = (15, 9.5)\n",
    "    # fig, ax = plt.subplots(figsize=fig_dims)\n",
    "    # plt.plot([1.7, 1.7], [0, 2.3], '--', lw=2, label=\"Training\")\n",
    "    # plt.legend(['Training'])\n",
    "    # sns.boxplot(x=\"deviation\", y=\"h\",\n",
    "    #             data=tot, hue=\"dataset\", palette=[\"m\", \"g\", \"r\", 'orange', \"blue\"], ax=ax)\n",
    "    # plt.show()\n",
    "    \n",
    "    # return hb_denoised_mnist.numpy(), hb_denoised_fashion_mnist.numpy(), hb_denoised_cifar10.numpy()"
   ]
  },
  {
   "cell_type": "code",
   "execution_count": 13,
   "id": "9b21ca9f",
   "metadata": {},
   "outputs": [],
   "source": [
    "(X_cifar, y_cifar), (X_test_cifar, y_test_cifar) = cifar10.load_data()\n",
    "(X_mnist, y_mnist), (X_test_mnist, y_test_mnist) = mnist.load_data()\n",
    "(X_fashion, y_fashion), (X_test_fashion, y_test_fashion) = fashion_mnist.load_data()\n",
    "\n",
    "X = {}\n",
    "X[\"cifar\"] = {\"train\": X_cifar, \"test\": X_test_cifar}\n",
    "X[\"mnist\"] = {\"train\": X_mnist, \"test\": X_test_mnist}\n",
    "X[\"fashion\"] = {\"train\": X_fashion, \"test\": X_test_fashion}\n",
    "\n",
    "y = {\"cifar\": {\"train\": y_cifar, \"test\": y_test_cifar},\n",
    "     \"mnist\": {\"train\": y_mnist, \"test\": y_test_mnist},\n",
    "     \"fashion\": {\"train\": y_fashion, \"test\": y_test_fashion}\n",
    "}\n",
    "\n",
    "for ds in X:\n",
    "    for dataset in X[ds]:\n",
    "        X[ds][dataset] = tf.convert_to_tensor(X[ds][dataset]/255.)\n",
    "        y[ds][dataset] = tf.convert_to_tensor(y[ds][dataset])\n",
    "        if ds != \"cifar\":\n",
    "            X[ds][dataset] = tf.expand_dims(X[ds][dataset], axis=-1)\n",
    "        y[ds][dataset] = tf.keras.utils.to_categorical(y[ds][dataset])\n",
    "\n"
   ]
  },
  {
   "cell_type": "code",
   "execution_count": null,
   "id": "1c4e5a28",
   "metadata": {},
   "outputs": [],
   "source": []
  },
  {
   "cell_type": "code",
   "execution_count": 14,
   "id": "bcac6fac",
   "metadata": {},
   "outputs": [],
   "source": [
    "Batcher  = DatasetMNIST(mode=\"\", reconstruction=True, \n",
    "                        name=\"no_noise\", X=X[\"mnist\"][\"train\"], X_noised=X[\"mnist\"][\"train\"], y=y[\"mnist\"][\"train\"])\n",
    "train_dataset, val_dataset = Batcher(batch_size=512)\n",
    "#  hext_coeff=300, train_shift=0.001, regul=0.0, regul_l1 = 0.000, regul_log=0.00,\n",
    "#                                     rmax_reg_coeff = 130., noise_std=0.1, dropout=0.2, dropout_in=0.\n",
    "\n"
   ]
  },
  {
   "cell_type": "code",
   "execution_count": 15,
   "id": "f9c839c9",
   "metadata": {},
   "outputs": [],
   "source": [
    "#denoising_mod_CNN = denoising_model_CNN(n_epoch_nn = 20, lr_nn=0.001, train_shift=0.00, noise_std=0.2, dropout=0.3, dropout_in=0.)"
   ]
  },
  {
   "cell_type": "code",
   "execution_count": 16,
   "id": "4707822d",
   "metadata": {},
   "outputs": [
    {
     "name": "stdout",
     "output_type": "stream",
     "text": [
      "Creating architecture of  NO NAME SPECIFIED   ...\n",
      "Done\n",
      "\n",
      "Model: \"model\"\n",
      "__________________________________________________________________________________________________\n",
      "Layer (type)                    Output Shape         Param #     Connected to                     \n",
      "==================================================================================================\n",
      "input_1 (InputLayer)            [(None, None, None,  0                                            \n",
      "__________________________________________________________________________________________________\n",
      "tf.zeros_like (TFOpLambda)      (None, None, None, 1 0           input_1[0][0]                    \n",
      "__________________________________________________________________________________________________\n",
      "gaussian_noise (GaussianNoise)  (None, None, None, 1 0           tf.zeros_like[0][0]              \n",
      "__________________________________________________________________________________________________\n",
      "tf.math.abs (TFOpLambda)        (None, None, None, 1 0           gaussian_noise[0][0]             \n",
      "__________________________________________________________________________________________________\n",
      "tf.__operators__.add (TFOpLambd (None, None, None, 1 0           input_1[0][0]                    \n",
      "__________________________________________________________________________________________________\n",
      "tf.cast (TFOpLambda)            (None, None, None, 1 0           tf.math.abs[0][0]                \n",
      "__________________________________________________________________________________________________\n",
      "tf.__operators__.add_1 (TFOpLam (None, None, None, 1 0           tf.__operators__.add[0][0]       \n",
      "                                                                 tf.cast[0][0]                    \n",
      "__________________________________________________________________________________________________\n",
      "denoising (CNN_denoising_block) (None, None, None, 1 5665        tf.__operators__.add_1[0][0]     \n",
      "==================================================================================================\n",
      "Total params: 5,665\n",
      "Trainable params: 5,569\n",
      "Non-trainable params: 96\n",
      "__________________________________________________________________________________________________\n",
      "Epoch 1/200\n",
      "94/94 [==============================] - 7s 30ms/step - loss: 0.3375 - val_loss: 0.0492\n",
      "Epoch 2/200\n",
      "94/94 [==============================] - 2s 24ms/step - loss: 0.0120 - val_loss: 0.0404\n",
      "Epoch 3/200\n",
      "94/94 [==============================] - 2s 25ms/step - loss: 0.0059 - val_loss: 0.0243\n",
      "Epoch 4/200\n",
      "94/94 [==============================] - 3s 26ms/step - loss: 0.0043 - val_loss: 0.0122\n",
      "Epoch 5/200\n",
      "94/94 [==============================] - 3s 27ms/step - loss: 0.0036 - val_loss: 0.0073\n",
      "Epoch 6/200\n",
      "94/94 [==============================] - 2s 25ms/step - loss: 0.0032 - val_loss: 0.0056\n",
      "Epoch 7/200\n",
      "94/94 [==============================] - 3s 27ms/step - loss: 0.0029 - val_loss: 0.0050\n",
      "Epoch 8/200\n",
      "94/94 [==============================] - 3s 27ms/step - loss: 0.0028 - val_loss: 0.0047\n",
      "Epoch 9/200\n",
      "94/94 [==============================] - 2s 26ms/step - loss: 0.0026 - val_loss: 0.0047\n",
      "Epoch 10/200\n",
      "94/94 [==============================] - 2s 24ms/step - loss: 0.0025 - val_loss: 0.0046\n",
      "Epoch 11/200\n",
      "94/94 [==============================] - 2s 26ms/step - loss: 0.0024 - val_loss: 0.0047\n",
      "Epoch 12/200\n",
      "94/94 [==============================] - 2s 25ms/step - loss: 0.0023 - val_loss: 0.0044\n",
      "Epoch 13/200\n",
      "94/94 [==============================] - 2s 24ms/step - loss: 0.0023 - val_loss: 0.0049\n",
      "Epoch 14/200\n",
      "94/94 [==============================] - 2s 24ms/step - loss: 0.0023 - val_loss: 0.0047\n",
      "Epoch 15/200\n",
      "94/94 [==============================] - 2s 24ms/step - loss: 0.0022 - val_loss: 0.0045\n",
      "Epoch 16/200\n",
      "94/94 [==============================] - 2s 26ms/step - loss: 0.0022 - val_loss: 0.0044\n",
      "Epoch 17/200\n",
      "94/94 [==============================] - 3s 27ms/step - loss: 0.0021 - val_loss: 0.0051\n",
      "Epoch 18/200\n",
      "94/94 [==============================] - 2s 25ms/step - loss: 0.0021 - val_loss: 0.0046\n",
      "Epoch 19/200\n",
      "94/94 [==============================] - 2s 26ms/step - loss: 0.0020 - val_loss: 0.0053\n",
      "Epoch 20/200\n",
      "94/94 [==============================] - 2s 25ms/step - loss: 0.0020 - val_loss: 0.0047\n",
      "Epoch 21/200\n",
      "94/94 [==============================] - 2s 25ms/step - loss: 0.0020 - val_loss: 0.0043\n",
      "Epoch 22/200\n",
      "94/94 [==============================] - 2s 26ms/step - loss: 0.0019 - val_loss: 0.0047\n",
      "Epoch 23/200\n",
      "94/94 [==============================] - 3s 27ms/step - loss: 0.0019 - val_loss: 0.0046\n",
      "Epoch 24/200\n",
      "94/94 [==============================] - 2s 25ms/step - loss: 0.0019 - val_loss: 0.0046\n",
      "Epoch 25/200\n",
      "94/94 [==============================] - 2s 24ms/step - loss: 0.0019 - val_loss: 0.0049\n",
      "Epoch 26/200\n",
      "94/94 [==============================] - 2s 25ms/step - loss: 0.0019 - val_loss: 0.0047\n",
      "Epoch 27/200\n",
      "94/94 [==============================] - 2s 26ms/step - loss: 0.0019 - val_loss: 0.0041\n",
      "Epoch 28/200\n",
      "94/94 [==============================] - 2s 25ms/step - loss: 0.0018 - val_loss: 0.0044\n",
      "Epoch 29/200\n",
      "94/94 [==============================] - 2s 24ms/step - loss: 0.0018 - val_loss: 0.0043\n",
      "Epoch 30/200\n",
      "94/94 [==============================] - 2s 24ms/step - loss: 0.0018 - val_loss: 0.0040\n",
      "Epoch 31/200\n",
      "94/94 [==============================] - 3s 25ms/step - loss: 0.0018 - val_loss: 0.0042\n",
      "Epoch 32/200\n",
      "94/94 [==============================] - 3s 27ms/step - loss: 0.0018 - val_loss: 0.0037\n",
      "Epoch 33/200\n",
      "94/94 [==============================] - 2s 24ms/step - loss: 0.0018 - val_loss: 0.0037\n",
      "Epoch 34/200\n",
      "94/94 [==============================] - 2s 25ms/step - loss: 0.0017 - val_loss: 0.0041\n",
      "Epoch 35/200\n",
      "94/94 [==============================] - 2s 25ms/step - loss: 0.0017 - val_loss: 0.0043\n",
      "Epoch 36/200\n",
      "94/94 [==============================] - 2s 26ms/step - loss: 0.0017 - val_loss: 0.0044\n",
      "Epoch 37/200\n",
      "94/94 [==============================] - 2s 24ms/step - loss: 0.0017 - val_loss: 0.0040\n",
      "Epoch 38/200\n",
      "94/94 [==============================] - 2s 26ms/step - loss: 0.0016 - val_loss: 0.0041\n",
      "Epoch 39/200\n",
      "94/94 [==============================] - 2s 26ms/step - loss: 0.0016 - val_loss: 0.0033\n",
      "Epoch 40/200\n",
      "94/94 [==============================] - 2s 25ms/step - loss: 0.0016 - val_loss: 0.0034\n",
      "Epoch 41/200\n",
      "94/94 [==============================] - 3s 27ms/step - loss: 0.0016 - val_loss: 0.0036\n",
      "Epoch 42/200\n",
      "94/94 [==============================] - 2s 25ms/step - loss: 0.0016 - val_loss: 0.0038\n",
      "Epoch 43/200\n",
      "94/94 [==============================] - 3s 28ms/step - loss: 0.0016 - val_loss: 0.0035\n",
      "Epoch 44/200\n",
      "94/94 [==============================] - 2s 26ms/step - loss: 0.0015 - val_loss: 0.0029\n",
      "Epoch 45/200\n",
      "94/94 [==============================] - 2s 26ms/step - loss: 0.0015 - val_loss: 0.0030\n",
      "Epoch 46/200\n",
      "94/94 [==============================] - 3s 26ms/step - loss: 0.0015 - val_loss: 0.0028\n",
      "Epoch 47/200\n",
      "94/94 [==============================] - 2s 25ms/step - loss: 0.0015 - val_loss: 0.0031\n",
      "Epoch 48/200\n",
      "94/94 [==============================] - 3s 26ms/step - loss: 0.0015 - val_loss: 0.0034\n",
      "Epoch 49/200\n",
      "94/94 [==============================] - 2s 25ms/step - loss: 0.0015 - val_loss: 0.0032\n",
      "Epoch 50/200\n",
      "94/94 [==============================] - 3s 28ms/step - loss: 0.0015 - val_loss: 0.0033\n",
      "Epoch 51/200\n",
      "94/94 [==============================] - 3s 30ms/step - loss: 0.0015 - val_loss: 0.0035\n",
      "Epoch 52/200\n",
      "94/94 [==============================] - 3s 29ms/step - loss: 0.0015 - val_loss: 0.0029\n",
      "Epoch 53/200\n",
      "94/94 [==============================] - 3s 27ms/step - loss: 0.0015 - val_loss: 0.0030\n",
      "Epoch 54/200\n",
      "94/94 [==============================] - 3s 27ms/step - loss: 0.0014 - val_loss: 0.0027\n",
      "Epoch 55/200\n",
      "94/94 [==============================] - 3s 27ms/step - loss: 0.0015 - val_loss: 0.0031\n",
      "Epoch 56/200\n",
      "94/94 [==============================] - 2s 26ms/step - loss: 0.0014 - val_loss: 0.0029\n",
      "Epoch 57/200\n",
      "94/94 [==============================] - 3s 26ms/step - loss: 0.0014 - val_loss: 0.0031\n",
      "Epoch 58/200\n",
      "94/94 [==============================] - 2s 25ms/step - loss: 0.0014 - val_loss: 0.0032\n",
      "Epoch 59/200\n",
      "94/94 [==============================] - 2s 25ms/step - loss: 0.0014 - val_loss: 0.0034\n",
      "Epoch 60/200\n"
     ]
    },
    {
     "name": "stdout",
     "output_type": "stream",
     "text": [
      "94/94 [==============================] - 2s 25ms/step - loss: 0.0014 - val_loss: 0.0033\n",
      "Epoch 61/200\n",
      "94/94 [==============================] - 2s 26ms/step - loss: 0.0014 - val_loss: 0.0027\n",
      "Epoch 62/200\n",
      "94/94 [==============================] - 2s 23ms/step - loss: 0.0014 - val_loss: 0.0029\n",
      "Epoch 63/200\n",
      "94/94 [==============================] - 2s 25ms/step - loss: 0.0014 - val_loss: 0.0033\n",
      "Epoch 64/200\n",
      "94/94 [==============================] - 2s 24ms/step - loss: 0.0014 - val_loss: 0.0030\n",
      "Epoch 65/200\n",
      "94/94 [==============================] - 2s 24ms/step - loss: 0.0014 - val_loss: 0.0026\n",
      "Epoch 66/200\n",
      "94/94 [==============================] - 2s 24ms/step - loss: 0.0014 - val_loss: 0.0032\n",
      "Epoch 67/200\n",
      "94/94 [==============================] - 2s 25ms/step - loss: 0.0014 - val_loss: 0.0030\n",
      "Epoch 68/200\n",
      "94/94 [==============================] - 2s 24ms/step - loss: 0.0013 - val_loss: 0.0030\n",
      "Epoch 69/200\n",
      "94/94 [==============================] - 2s 24ms/step - loss: 0.0014 - val_loss: 0.0031\n",
      "Epoch 70/200\n",
      "94/94 [==============================] - 2s 23ms/step - loss: 0.0014 - val_loss: 0.0031\n",
      "Epoch 71/200\n",
      "94/94 [==============================] - 2s 24ms/step - loss: 0.0014 - val_loss: 0.0030\n",
      "Epoch 72/200\n",
      "94/94 [==============================] - 2s 25ms/step - loss: 0.0014 - val_loss: 0.0032\n",
      "Epoch 73/200\n",
      "94/94 [==============================] - 2s 25ms/step - loss: 0.0014 - val_loss: 0.0025\n",
      "Epoch 74/200\n",
      "94/94 [==============================] - 2s 25ms/step - loss: 0.0014 - val_loss: 0.0030\n",
      "Epoch 75/200\n",
      "94/94 [==============================] - 2s 25ms/step - loss: 0.0013 - val_loss: 0.0027\n",
      "Epoch 76/200\n",
      "94/94 [==============================] - 2s 24ms/step - loss: 0.0014 - val_loss: 0.0028\n",
      "Epoch 77/200\n",
      "94/94 [==============================] - 2s 26ms/step - loss: 0.0013 - val_loss: 0.0029\n",
      "Epoch 78/200\n",
      "94/94 [==============================] - 2s 25ms/step - loss: 0.0014 - val_loss: 0.0026\n",
      "Epoch 79/200\n",
      "94/94 [==============================] - 2s 26ms/step - loss: 0.0013 - val_loss: 0.0029\n",
      "Epoch 80/200\n",
      "94/94 [==============================] - 3s 26ms/step - loss: 0.0013 - val_loss: 0.0030\n",
      "Epoch 81/200\n",
      "94/94 [==============================] - 3s 28ms/step - loss: 0.0013 - val_loss: 0.0028\n",
      "Epoch 82/200\n",
      "94/94 [==============================] - 2s 25ms/step - loss: 0.0013 - val_loss: 0.0028\n",
      "Epoch 83/200\n",
      "94/94 [==============================] - 2s 25ms/step - loss: 0.0013 - val_loss: 0.0026\n",
      "Epoch 84/200\n",
      "94/94 [==============================] - 2s 25ms/step - loss: 0.0013 - val_loss: 0.0027\n",
      "Epoch 85/200\n",
      "94/94 [==============================] - 2s 24ms/step - loss: 0.0013 - val_loss: 0.0028\n",
      "Epoch 86/200\n",
      "94/94 [==============================] - 2s 24ms/step - loss: 0.0014 - val_loss: 0.0028\n",
      "Epoch 87/200\n",
      "94/94 [==============================] - 2s 25ms/step - loss: 0.0013 - val_loss: 0.0026\n",
      "Epoch 88/200\n",
      "94/94 [==============================] - 2s 25ms/step - loss: 0.0013 - val_loss: 0.0036\n",
      "Epoch 89/200\n",
      "94/94 [==============================] - 2s 23ms/step - loss: 0.0013 - val_loss: 0.0030\n",
      "Epoch 90/200\n",
      "94/94 [==============================] - 2s 25ms/step - loss: 0.0013 - val_loss: 0.0032\n",
      "Epoch 91/200\n",
      "94/94 [==============================] - 2s 24ms/step - loss: 0.0013 - val_loss: 0.0026\n",
      "Epoch 92/200\n",
      "94/94 [==============================] - 2s 23ms/step - loss: 0.0013 - val_loss: 0.0029\n",
      "Epoch 93/200\n",
      "94/94 [==============================] - 2s 25ms/step - loss: 0.0013 - val_loss: 0.0028\n",
      "Epoch 94/200\n",
      "94/94 [==============================] - 2s 24ms/step - loss: 0.0013 - val_loss: 0.0028\n",
      "Epoch 95/200\n",
      "94/94 [==============================] - 2s 25ms/step - loss: 0.0013 - val_loss: 0.0028\n",
      "Epoch 96/200\n",
      "94/94 [==============================] - 2s 24ms/step - loss: 0.0013 - val_loss: 0.0029\n",
      "Epoch 97/200\n",
      "94/94 [==============================] - 2s 24ms/step - loss: 0.0013 - val_loss: 0.0029\n",
      "Epoch 98/200\n",
      "94/94 [==============================] - 2s 24ms/step - loss: 0.0013 - val_loss: 0.0030\n",
      "Epoch 99/200\n",
      "94/94 [==============================] - 2s 24ms/step - loss: 0.0013 - val_loss: 0.0029\n",
      "Epoch 100/200\n",
      "94/94 [==============================] - 2s 23ms/step - loss: 0.0013 - val_loss: 0.0030\n",
      "Epoch 101/200\n",
      "94/94 [==============================] - 2s 25ms/step - loss: 0.0013 - val_loss: 0.0029\n",
      "Epoch 102/200\n",
      "94/94 [==============================] - 2s 24ms/step - loss: 0.0013 - val_loss: 0.0029\n",
      "Epoch 103/200\n",
      "94/94 [==============================] - 2s 23ms/step - loss: 0.0013 - val_loss: 0.0028\n",
      "Epoch 104/200\n",
      "94/94 [==============================] - 2s 23ms/step - loss: 0.0013 - val_loss: 0.0028\n",
      "Epoch 105/200\n",
      "94/94 [==============================] - 2s 23ms/step - loss: 0.0013 - val_loss: 0.0028\n",
      "Epoch 106/200\n",
      "94/94 [==============================] - 2s 24ms/step - loss: 0.0013 - val_loss: 0.0027\n",
      "Epoch 107/200\n",
      "94/94 [==============================] - 2s 24ms/step - loss: 0.0013 - val_loss: 0.0028\n",
      "Epoch 108/200\n",
      "94/94 [==============================] - 2s 25ms/step - loss: 0.0013 - val_loss: 0.0029\n",
      "Epoch 109/200\n",
      "94/94 [==============================] - 2s 23ms/step - loss: 0.0013 - val_loss: 0.0026\n",
      "Epoch 110/200\n",
      "94/94 [==============================] - 2s 24ms/step - loss: 0.0013 - val_loss: 0.0028\n",
      "Epoch 111/200\n",
      "94/94 [==============================] - 2s 24ms/step - loss: 0.0013 - val_loss: 0.0028\n",
      "Epoch 112/200\n",
      "94/94 [==============================] - 2s 23ms/step - loss: 0.0013 - val_loss: 0.0029\n",
      "Epoch 113/200\n",
      "94/94 [==============================] - 2s 24ms/step - loss: 0.0013 - val_loss: 0.0027\n",
      "Epoch 114/200\n",
      "94/94 [==============================] - 2s 25ms/step - loss: 0.0013 - val_loss: 0.0026\n",
      "Epoch 115/200\n",
      "94/94 [==============================] - 2s 24ms/step - loss: 0.0013 - val_loss: 0.0027\n",
      "Epoch 116/200\n",
      "94/94 [==============================] - 2s 23ms/step - loss: 0.0013 - val_loss: 0.0029\n",
      "Epoch 117/200\n",
      "94/94 [==============================] - 2s 25ms/step - loss: 0.0013 - val_loss: 0.0028\n",
      "Epoch 118/200\n",
      "94/94 [==============================] - 2s 24ms/step - loss: 0.0013 - val_loss: 0.0027\n",
      "Epoch 119/200\n",
      "94/94 [==============================] - 2s 24ms/step - loss: 0.0013 - val_loss: 0.0026\n",
      "Epoch 120/200\n",
      "94/94 [==============================] - 2s 24ms/step - loss: 0.0013 - val_loss: 0.0028\n",
      "Epoch 121/200\n",
      "94/94 [==============================] - 3s 27ms/step - loss: 0.0013 - val_loss: 0.0028\n",
      "Epoch 122/200\n",
      "94/94 [==============================] - 3s 27ms/step - loss: 0.0013 - val_loss: 0.0027\n",
      "Epoch 123/200\n",
      "94/94 [==============================] - 2s 24ms/step - loss: 0.0013 - val_loss: 0.0026\n",
      "Epoch 124/200\n",
      "94/94 [==============================] - 2s 25ms/step - loss: 0.0013 - val_loss: 0.0029\n",
      "Epoch 125/200\n",
      "94/94 [==============================] - 3s 26ms/step - loss: 0.0013 - val_loss: 0.0027\n",
      "Epoch 126/200\n",
      "94/94 [==============================] - 2s 24ms/step - loss: 0.0013 - val_loss: 0.0029\n",
      "Epoch 127/200\n",
      "94/94 [==============================] - 2s 24ms/step - loss: 0.0013 - val_loss: 0.0027\n",
      "Epoch 128/200\n",
      "94/94 [==============================] - 2s 24ms/step - loss: 0.0013 - val_loss: 0.0026\n",
      "Epoch 129/200\n",
      "94/94 [==============================] - 2s 24ms/step - loss: 0.0013 - val_loss: 0.0026\n",
      "Epoch 130/200\n",
      "94/94 [==============================] - 2s 24ms/step - loss: 0.0013 - val_loss: 0.0027\n",
      "Epoch 131/200\n",
      "94/94 [==============================] - 2s 25ms/step - loss: 0.0013 - val_loss: 0.0028\n",
      "Epoch 132/200\n",
      "94/94 [==============================] - 2s 25ms/step - loss: 0.0013 - val_loss: 0.0025\n",
      "Epoch 133/200\n",
      "94/94 [==============================] - 2s 24ms/step - loss: 0.0013 - val_loss: 0.0027\n",
      "Epoch 134/200\n",
      "94/94 [==============================] - 3s 27ms/step - loss: 0.0012 - val_loss: 0.0025\n",
      "Epoch 135/200\n",
      "94/94 [==============================] - 2s 24ms/step - loss: 0.0012 - val_loss: 0.0029\n",
      "Epoch 136/200\n",
      "94/94 [==============================] - 2s 24ms/step - loss: 0.0013 - val_loss: 0.0026\n",
      "Epoch 137/200\n",
      "94/94 [==============================] - 2s 25ms/step - loss: 0.0013 - val_loss: 0.0027\n",
      "Epoch 138/200\n",
      "94/94 [==============================] - 2s 24ms/step - loss: 0.0013 - val_loss: 0.0027\n",
      "Epoch 139/200\n",
      "94/94 [==============================] - 2s 23ms/step - loss: 0.0012 - val_loss: 0.0027\n",
      "Epoch 140/200\n",
      "94/94 [==============================] - 2s 23ms/step - loss: 0.0012 - val_loss: 0.0028\n"
     ]
    },
    {
     "name": "stdout",
     "output_type": "stream",
     "text": [
      "Epoch 141/200\n",
      "94/94 [==============================] - 2s 25ms/step - loss: 0.0012 - val_loss: 0.0027\n",
      "Epoch 142/200\n",
      "94/94 [==============================] - 2s 23ms/step - loss: 0.0013 - val_loss: 0.0027\n",
      "Epoch 143/200\n",
      "94/94 [==============================] - 2s 26ms/step - loss: 0.0012 - val_loss: 0.0028\n",
      "Epoch 144/200\n",
      "94/94 [==============================] - 2s 24ms/step - loss: 0.0012 - val_loss: 0.0027\n",
      "Epoch 145/200\n",
      "94/94 [==============================] - 2s 24ms/step - loss: 0.0013 - val_loss: 0.0027\n",
      "Epoch 146/200\n",
      "94/94 [==============================] - 2s 24ms/step - loss: 0.0012 - val_loss: 0.0028\n",
      "Epoch 147/200\n",
      "94/94 [==============================] - 3s 27ms/step - loss: 0.0013 - val_loss: 0.0028\n",
      "Epoch 148/200\n",
      "94/94 [==============================] - 2s 24ms/step - loss: 0.0013 - val_loss: 0.0028\n",
      "Epoch 149/200\n",
      "94/94 [==============================] - 2s 24ms/step - loss: 0.0013 - val_loss: 0.0028\n",
      "Epoch 150/200\n",
      "94/94 [==============================] - 2s 24ms/step - loss: 0.0012 - val_loss: 0.0030\n",
      "Epoch 151/200\n",
      "94/94 [==============================] - 2s 24ms/step - loss: 0.0012 - val_loss: 0.0028\n",
      "Epoch 152/200\n",
      "94/94 [==============================] - 2s 25ms/step - loss: 0.0012 - val_loss: 0.0030\n",
      "Epoch 153/200\n",
      "94/94 [==============================] - 2s 26ms/step - loss: 0.0012 - val_loss: 0.0028\n",
      "Epoch 154/200\n",
      "94/94 [==============================] - 2s 24ms/step - loss: 0.0012 - val_loss: 0.0028\n",
      "Epoch 155/200\n",
      "94/94 [==============================] - 2s 25ms/step - loss: 0.0012 - val_loss: 0.0030\n",
      "Epoch 156/200\n",
      "94/94 [==============================] - 2s 23ms/step - loss: 0.0012 - val_loss: 0.0028\n",
      "Epoch 157/200\n",
      "94/94 [==============================] - 2s 24ms/step - loss: 0.0012 - val_loss: 0.0027\n",
      "Epoch 158/200\n",
      "94/94 [==============================] - 2s 24ms/step - loss: 0.0012 - val_loss: 0.0027\n",
      "Epoch 159/200\n",
      "94/94 [==============================] - 2s 26ms/step - loss: 0.0012 - val_loss: 0.0028\n",
      "Epoch 160/200\n",
      "94/94 [==============================] - 2s 25ms/step - loss: 0.0012 - val_loss: 0.0027\n",
      "Epoch 161/200\n",
      "94/94 [==============================] - 2s 25ms/step - loss: 0.0012 - val_loss: 0.0029\n",
      "Epoch 162/200\n",
      "94/94 [==============================] - 2s 24ms/step - loss: 0.0012 - val_loss: 0.0028\n",
      "Epoch 163/200\n",
      "94/94 [==============================] - 2s 25ms/step - loss: 0.0012 - val_loss: 0.0029\n",
      "Epoch 164/200\n",
      "94/94 [==============================] - 3s 26ms/step - loss: 0.0012 - val_loss: 0.0028\n",
      "Epoch 165/200\n",
      "94/94 [==============================] - 2s 24ms/step - loss: 0.0012 - val_loss: 0.0028\n",
      "Epoch 166/200\n",
      "94/94 [==============================] - 2s 24ms/step - loss: 0.0012 - val_loss: 0.0029\n",
      "Epoch 167/200\n",
      "94/94 [==============================] - 2s 26ms/step - loss: 0.0012 - val_loss: 0.0029\n",
      "Epoch 168/200\n",
      "94/94 [==============================] - 2s 24ms/step - loss: 0.0012 - val_loss: 0.0030\n",
      "Epoch 169/200\n",
      "94/94 [==============================] - 2s 25ms/step - loss: 0.0013 - val_loss: 0.0028\n",
      "Epoch 170/200\n",
      "94/94 [==============================] - 2s 25ms/step - loss: 0.0012 - val_loss: 0.0026\n",
      "Epoch 171/200\n",
      "94/94 [==============================] - 2s 24ms/step - loss: 0.0012 - val_loss: 0.0027\n",
      "Epoch 172/200\n",
      "94/94 [==============================] - 2s 24ms/step - loss: 0.0013 - val_loss: 0.0028\n",
      "Epoch 173/200\n",
      "94/94 [==============================] - 2s 25ms/step - loss: 0.0012 - val_loss: 0.0028\n",
      "Epoch 174/200\n",
      "94/94 [==============================] - 2s 25ms/step - loss: 0.0012 - val_loss: 0.0028\n",
      "Epoch 175/200\n",
      "94/94 [==============================] - 2s 25ms/step - loss: 0.0012 - val_loss: 0.0028\n",
      "Epoch 176/200\n",
      "94/94 [==============================] - 2s 24ms/step - loss: 0.0012 - val_loss: 0.0026\n",
      "Epoch 177/200\n",
      "94/94 [==============================] - 2s 25ms/step - loss: 0.0012 - val_loss: 0.0027\n",
      "Epoch 178/200\n",
      "94/94 [==============================] - 2s 24ms/step - loss: 0.0012 - val_loss: 0.0027\n",
      "Epoch 179/200\n",
      "94/94 [==============================] - 2s 24ms/step - loss: 0.0012 - val_loss: 0.0027\n",
      "Epoch 180/200\n",
      "94/94 [==============================] - 2s 24ms/step - loss: 0.0012 - val_loss: 0.0028\n",
      "Epoch 181/200\n",
      "94/94 [==============================] - 2s 25ms/step - loss: 0.0012 - val_loss: 0.0029\n",
      "Epoch 182/200\n",
      "94/94 [==============================] - 3s 26ms/step - loss: 0.0012 - val_loss: 0.0029\n",
      "Epoch 183/200\n",
      "94/94 [==============================] - 2s 25ms/step - loss: 0.0012 - val_loss: 0.0030\n",
      "Epoch 184/200\n",
      "94/94 [==============================] - 2s 25ms/step - loss: 0.0012 - val_loss: 0.0030\n",
      "Epoch 185/200\n",
      "94/94 [==============================] - 2s 24ms/step - loss: 0.0012 - val_loss: 0.0029\n",
      "Epoch 186/200\n",
      "94/94 [==============================] - 2s 24ms/step - loss: 0.0012 - val_loss: 0.0026\n",
      "Epoch 187/200\n",
      "94/94 [==============================] - 2s 25ms/step - loss: 0.0012 - val_loss: 0.0028\n",
      "Epoch 188/200\n",
      "94/94 [==============================] - 2s 24ms/step - loss: 0.0012 - val_loss: 0.0030\n",
      "Epoch 189/200\n",
      "94/94 [==============================] - 2s 26ms/step - loss: 0.0013 - val_loss: 0.0026\n",
      "Epoch 190/200\n",
      "94/94 [==============================] - 2s 24ms/step - loss: 0.0012 - val_loss: 0.0028\n",
      "Epoch 191/200\n",
      "94/94 [==============================] - 2s 24ms/step - loss: 0.0012 - val_loss: 0.0029\n",
      "Epoch 192/200\n",
      "94/94 [==============================] - 2s 26ms/step - loss: 0.0012 - val_loss: 0.0025\n",
      "Epoch 193/200\n",
      "94/94 [==============================] - 2s 25ms/step - loss: 0.0012 - val_loss: 0.0027\n",
      "Epoch 194/200\n",
      "94/94 [==============================] - 3s 27ms/step - loss: 0.0012 - val_loss: 0.0027\n",
      "Epoch 195/200\n",
      "94/94 [==============================] - 2s 26ms/step - loss: 0.0012 - val_loss: 0.0028\n",
      "Epoch 196/200\n",
      "94/94 [==============================] - 3s 28ms/step - loss: 0.0012 - val_loss: 0.0026\n",
      "Epoch 197/200\n",
      "94/94 [==============================] - 3s 27ms/step - loss: 0.0012 - val_loss: 0.0028\n",
      "Epoch 198/200\n",
      "94/94 [==============================] - 3s 26ms/step - loss: 0.0012 - val_loss: 0.0030\n",
      "Epoch 199/200\n",
      "94/94 [==============================] - 2s 26ms/step - loss: 0.0012 - val_loss: 0.0026\n",
      "Epoch 200/200\n",
      "94/94 [==============================] - 2s 26ms/step - loss: 0.0012 - val_loss: 0.0028\n"
     ]
    },
    {
     "data": {
      "image/png": "[encoded data removed]",
      "text/plain": [
       "<Figure size 432x288 with 1 Axes>"
      ]
     },
     "metadata": {
      "needs_background": "light"
     },
     "output_type": "display_data"
    }
   ],
   "source": [
    "denoising_mod_CNN = denoising_model_CNN(n_epoch_nn = 200, lr_nn=0.001, train_shift=0.00, noise_std=0.2, dropout=0.3, dropout_in=0.,)\n",
    "denoising_mod_CNN.train(train_dataset, val_dataset)\n",
    "\n",
    "#del Batcher\n",
    "#del train_dataset\n",
    "#del val_dataset\n",
    "\n",
    "plt.plot(denoising_mod_CNN.historyi.history['loss'])\n",
    "plt.plot(denoising_mod_CNN.historyi.history['val_loss'])\n",
    "plt.title('model total loss')\n",
    "plt.ylabel('loss')\n",
    "plt.xlabel('epoch')\n",
    "plt.legend(['train', 'val'], loc='upper left')\n",
    "plt.show()"
   ]
  },
  {
   "cell_type": "code",
   "execution_count": 20,
   "id": "b0092c8a",
   "metadata": {},
   "outputs": [
    {
     "name": "stdout",
     "output_type": "stream",
     "text": [
      "Creating architecture of  NO NAME SPECIFIED   ...\n",
      "Done\n",
      "\n",
      "Model: \"model_4\"\n",
      "__________________________________________________________________________________________________\n",
      "Layer (type)                    Output Shape         Param #     Connected to                     \n",
      "==================================================================================================\n",
      "input_3 (InputLayer)            [(None, 28, 28, 1)]  0                                            \n",
      "__________________________________________________________________________________________________\n",
      "tf.zeros_like_2 (TFOpLambda)    (None, 28, 28, 1)    0           input_3[0][0]                    \n",
      "__________________________________________________________________________________________________\n",
      "gaussian_noise_2 (GaussianNoise (None, 28, 28, 1)    0           tf.zeros_like_2[0][0]            \n",
      "__________________________________________________________________________________________________\n",
      "tf.math.abs_2 (TFOpLambda)      (None, 28, 28, 1)    0           gaussian_noise_2[0][0]           \n",
      "__________________________________________________________________________________________________\n",
      "tf.__operators__.add_4 (TFOpLam (None, 28, 28, 1)    0           input_3[0][0]                    \n",
      "__________________________________________________________________________________________________\n",
      "tf.cast_2 (TFOpLambda)          (None, 28, 28, 1)    0           tf.math.abs_2[0][0]              \n",
      "__________________________________________________________________________________________________\n",
      "tf.__operators__.add_5 (TFOpLam (None, 28, 28, 1)    0           tf.__operators__.add_4[0][0]     \n",
      "                                                                 tf.cast_2[0][0]                  \n",
      "__________________________________________________________________________________________________\n",
      "t (h_extrema_denoising_block)   (None, 1, 1, 1)      231         tf.__operators__.add_5[0][0]     \n",
      "__________________________________________________________________________________________________\n",
      "mse_denoising (Hextrema)        (None, 28, 28, 1)    0           t[0][0]                          \n",
      "                                                                 tf.__operators__.add_5[0][0]     \n",
      "__________________________________________________________________________________________________\n",
      "lambda_1 (Lambda)               (None, 28, 28, 1)    0           mse_denoising[0][0]              \n",
      "__________________________________________________________________________________________________\n",
      "tf.math.multiply_1 (TFOpLambda) (None, 28, 28, 1)    0           lambda_1[0][0]                   \n",
      "__________________________________________________________________________________________________\n",
      "r_max_reg (Multiply)            (None, 28, 28, 1)    0           mse_denoising[0][0]              \n",
      "                                                                 tf.math.multiply_1[0][0]         \n",
      "==================================================================================================\n",
      "Total params: 231\n",
      "Trainable params: 231\n",
      "Non-trainable params: 0\n",
      "__________________________________________________________________________________________________\n",
      "Epoch 1/200\n",
      "750/750 [==============================] - 30s 39ms/step - loss: 0.0708 - mse_denoising_loss: 0.0280 - r_max_reg_loss: 0.0428 - val_loss: 0.0542 - val_mse_denoising_loss: 0.0090 - val_r_max_reg_loss: 0.0452\n",
      "Epoch 2/200\n",
      "750/750 [==============================] - 31s 42ms/step - loss: 0.0656 - mse_denoising_loss: 0.0245 - r_max_reg_loss: 0.0411 - val_loss: 0.0543 - val_mse_denoising_loss: 0.0108 - val_r_max_reg_loss: 0.0434\n",
      "Epoch 3/200\n",
      "750/750 [==============================] - 29s 39ms/step - loss: 0.0657 - mse_denoising_loss: 0.0250 - r_max_reg_loss: 0.0408 - val_loss: 0.0546 - val_mse_denoising_loss: 0.0083 - val_r_max_reg_loss: 0.0462\n",
      "Epoch 4/200\n",
      "750/750 [==============================] - 28s 37ms/step - loss: 0.0650 - mse_denoising_loss: 0.0249 - r_max_reg_loss: 0.0401 - val_loss: 0.0553 - val_mse_denoising_loss: 0.0066 - val_r_max_reg_loss: 0.0487\n",
      "Epoch 5/200\n",
      "750/750 [==============================] - 29s 39ms/step - loss: 0.0649 - mse_denoising_loss: 0.0249 - r_max_reg_loss: 0.0401 - val_loss: 0.0551 - val_mse_denoising_loss: 0.0072 - val_r_max_reg_loss: 0.0479\n",
      "Epoch 6/200\n",
      "750/750 [==============================] - 29s 39ms/step - loss: 0.0646 - mse_denoising_loss: 0.0245 - r_max_reg_loss: 0.0401 - val_loss: 0.0544 - val_mse_denoising_loss: 0.0128 - val_r_max_reg_loss: 0.0416\n",
      "Epoch 7/200\n",
      "750/750 [==============================] - 30s 40ms/step - loss: 0.0651 - mse_denoising_loss: 0.0244 - r_max_reg_loss: 0.0406 - val_loss: 0.0546 - val_mse_denoising_loss: 0.0116 - val_r_max_reg_loss: 0.0430\n",
      "Epoch 8/200\n",
      "750/750 [==============================] - 31s 41ms/step - loss: 0.0649 - mse_denoising_loss: 0.0241 - r_max_reg_loss: 0.0408 - val_loss: 0.0553 - val_mse_denoising_loss: 0.0068 - val_r_max_reg_loss: 0.0485\n",
      "Epoch 9/200\n",
      "750/750 [==============================] - 28s 38ms/step - loss: 0.0648 - mse_denoising_loss: 0.0247 - r_max_reg_loss: 0.0401 - val_loss: 0.0551 - val_mse_denoising_loss: 0.0079 - val_r_max_reg_loss: 0.0472\n",
      "Epoch 10/200\n",
      "750/750 [==============================] - 31s 42ms/step - loss: 0.0649 - mse_denoising_loss: 0.0243 - r_max_reg_loss: 0.0406 - val_loss: 0.0552 - val_mse_denoising_loss: 0.0076 - val_r_max_reg_loss: 0.0476\n",
      "Epoch 11/200\n",
      "750/750 [==============================] - 31s 41ms/step - loss: 0.0646 - mse_denoising_loss: 0.0244 - r_max_reg_loss: 0.0403 - val_loss: 0.0552 - val_mse_denoising_loss: 0.0077 - val_r_max_reg_loss: 0.0475\n",
      "Epoch 12/200\n",
      "750/750 [==============================] - 31s 41ms/step - loss: 0.0644 - mse_denoising_loss: 0.0247 - r_max_reg_loss: 0.0397 - val_loss: 0.0549 - val_mse_denoising_loss: 0.0092 - val_r_max_reg_loss: 0.0457\n",
      "Epoch 13/200\n",
      "750/750 [==============================] - 32s 42ms/step - loss: 0.0644 - mse_denoising_loss: 0.0243 - r_max_reg_loss: 0.0401 - val_loss: 0.0548 - val_mse_denoising_loss: 0.0094 - val_r_max_reg_loss: 0.0455\n",
      "Epoch 14/200\n",
      "750/750 [==============================] - 31s 41ms/step - loss: 0.0642 - mse_denoising_loss: 0.0242 - r_max_reg_loss: 0.0400 - val_loss: 0.0551 - val_mse_denoising_loss: 0.0083 - val_r_max_reg_loss: 0.0468\n",
      "Epoch 15/200\n",
      "750/750 [==============================] - 30s 40ms/step - loss: 0.0642 - mse_denoising_loss: 0.0245 - r_max_reg_loss: 0.0397 - val_loss: 0.0549 - val_mse_denoising_loss: 0.0091 - val_r_max_reg_loss: 0.0458\n",
      "Epoch 16/200\n",
      "750/750 [==============================] - 30s 40ms/step - loss: 0.0642 - mse_denoising_loss: 0.0245 - r_max_reg_loss: 0.0398 - val_loss: 0.0551 - val_mse_denoising_loss: 0.0081 - val_r_max_reg_loss: 0.0469\n",
      "Epoch 17/200\n",
      "750/750 [==============================] - 30s 40ms/step - loss: 0.0644 - mse_denoising_loss: 0.0247 - r_max_reg_loss: 0.0398 - val_loss: 0.0550 - val_mse_denoising_loss: 0.0086 - val_r_max_reg_loss: 0.0465\n",
      "Epoch 18/200\n",
      "750/750 [==============================] - 32s 42ms/step - loss: 0.0643 - mse_denoising_loss: 0.0245 - r_max_reg_loss: 0.0398 - val_loss: 0.0549 - val_mse_denoising_loss: 0.0093 - val_r_max_reg_loss: 0.0456\n",
      "Epoch 19/200\n",
      "750/750 [==============================] - 31s 41ms/step - loss: 0.0644 - mse_denoising_loss: 0.0243 - r_max_reg_loss: 0.0401 - val_loss: 0.0549 - val_mse_denoising_loss: 0.0090 - val_r_max_reg_loss: 0.0459\n",
      "Epoch 20/200\n",
      "750/750 [==============================] - 30s 40ms/step - loss: 0.0643 - mse_denoising_loss: 0.0245 - r_max_reg_loss: 0.0398 - val_loss: 0.0550 - val_mse_denoising_loss: 0.0082 - val_r_max_reg_loss: 0.0468\n",
      "Epoch 21/200\n",
      "750/750 [==============================] - 30s 40ms/step - loss: 0.0644 - mse_denoising_loss: 0.0245 - r_max_reg_loss: 0.0399 - val_loss: 0.0549 - val_mse_denoising_loss: 0.0094 - val_r_max_reg_loss: 0.0455\n",
      "Epoch 22/200\n",
      "750/750 [==============================] - 32s 43ms/step - loss: 0.0644 - mse_denoising_loss: 0.0242 - r_max_reg_loss: 0.0402 - val_loss: 0.0549 - val_mse_denoising_loss: 0.0093 - val_r_max_reg_loss: 0.0456\n",
      "Epoch 23/200\n",
      "750/750 [==============================] - 32s 42ms/step - loss: 0.0643 - mse_denoising_loss: 0.0243 - r_max_reg_loss: 0.0400 - val_loss: 0.0550 - val_mse_denoising_loss: 0.0092 - val_r_max_reg_loss: 0.0458\n"
     ]
    },
    {
     "name": "stdout",
     "output_type": "stream",
     "text": [
      "Epoch 24/200\n",
      "750/750 [==============================] - 31s 42ms/step - loss: 0.0641 - mse_denoising_loss: 0.0243 - r_max_reg_loss: 0.0398 - val_loss: 0.0550 - val_mse_denoising_loss: 0.0092 - val_r_max_reg_loss: 0.0458\n",
      "Epoch 25/200\n",
      "750/750 [==============================] - 31s 42ms/step - loss: 0.0642 - mse_denoising_loss: 0.0243 - r_max_reg_loss: 0.0400 - val_loss: 0.0550 - val_mse_denoising_loss: 0.0091 - val_r_max_reg_loss: 0.0459\n",
      "Epoch 26/200\n",
      "750/750 [==============================] - 31s 42ms/step - loss: 0.0642 - mse_denoising_loss: 0.0243 - r_max_reg_loss: 0.0399 - val_loss: 0.0550 - val_mse_denoising_loss: 0.0091 - val_r_max_reg_loss: 0.0459\n",
      "Epoch 27/200\n",
      "750/750 [==============================] - 32s 42ms/step - loss: 0.0643 - mse_denoising_loss: 0.0243 - r_max_reg_loss: 0.0399 - val_loss: 0.0549 - val_mse_denoising_loss: 0.0092 - val_r_max_reg_loss: 0.0457\n",
      "Epoch 28/200\n",
      "750/750 [==============================] - 31s 42ms/step - loss: 0.0642 - mse_denoising_loss: 0.0243 - r_max_reg_loss: 0.0400 - val_loss: 0.0549 - val_mse_denoising_loss: 0.0093 - val_r_max_reg_loss: 0.0456\n",
      "Epoch 29/200\n",
      "750/750 [==============================] - 32s 43ms/step - loss: 0.0641 - mse_denoising_loss: 0.0242 - r_max_reg_loss: 0.0399 - val_loss: 0.0549 - val_mse_denoising_loss: 0.0093 - val_r_max_reg_loss: 0.0457\n",
      "Epoch 30/200\n",
      "750/750 [==============================] - 32s 42ms/step - loss: 0.0641 - mse_denoising_loss: 0.0243 - r_max_reg_loss: 0.0399 - val_loss: 0.0550 - val_mse_denoising_loss: 0.0091 - val_r_max_reg_loss: 0.0459\n",
      "Epoch 31/200\n",
      "750/750 [==============================] - 32s 42ms/step - loss: 0.0643 - mse_denoising_loss: 0.0244 - r_max_reg_loss: 0.0399 - val_loss: 0.0550 - val_mse_denoising_loss: 0.0090 - val_r_max_reg_loss: 0.0460\n"
     ]
    }
   ],
   "source": [
    "Batcher  = DatasetMNIST_MORPHO_REG(mode=\"\", reconstruction=True, \n",
    "                        name=\"no_noise\", X=X[\"mnist\"][\"train\"], X_noised=X[\"mnist\"][\"train\"], y=y[\"mnist\"][\"train\"])\n",
    "train_dataset, val_dataset = Batcher(batch_size=64)\n",
    "#  hext_coeff=300, train_shift=0.001, regul=0.0, regul_l1 = 0.000, regul_log=0.00,\n",
    "#                                     rmax_reg_coeff = 130., noise_std=0.1, dropout=0.2, dropout_in=0.\n",
    "\n",
    "\n",
    "denoising_mod = denoising_model(n_epoch_nn = 200, lr_nn=0.001,\n",
    "                                 hext_coeff=1., train_shift=0.00, regul=0., regul_l1 = 0., regul_log=0.000,\n",
    "                                 rmax_reg_coeff = 1., noise_std=0.2, dropout=0.3, dropout_in=0.,\n",
    "                                 regul_or = 0.00, regul_l1_or=0, regul_log_or=0)\n",
    "#print('denoising_mod.nn.summary()')\n",
    "#denoising_mod.nn.summary()\n",
    "\n",
    "denoising_mod.train(train_dataset, val_dataset)\n",
    "del Batcher\n",
    "del train_dataset\n",
    "del val_dataset\n"
   ]
  },
  {
   "cell_type": "code",
   "execution_count": 21,
   "id": "cfec0e71",
   "metadata": {},
   "outputs": [
    {
     "name": "stdout",
     "output_type": "stream",
     "text": [
      "(1000, 1, 1, 1)\n"
     ]
    }
   ],
   "source": [
    "hest=denoising_mod.predict_h(X['mnist']['train'][0:1000])\n",
    "print(hest.shape)"
   ]
  },
  {
   "cell_type": "code",
   "execution_count": 22,
   "id": "6468a535",
   "metadata": {},
   "outputs": [
    {
     "data": {
      "text/plain": [
       "[<matplotlib.lines.Line2D at 0x7fcddc1c6050>]"
      ]
     },
     "execution_count": 22,
     "metadata": {},
     "output_type": "execute_result"
    },
    {
     "data": {
      "image/png": "[encoded data removed]",
      "text/plain": [
       "<Figure size 432x288 with 1 Axes>"
      ]
     },
     "metadata": {
      "needs_background": "light"
     },
     "output_type": "display_data"
    }
   ],
   "source": [
    "plt.plot(hest[:,0,0,0])"
   ]
  },
  {
   "cell_type": "code",
   "execution_count": 23,
   "id": "5a157939",
   "metadata": {},
   "outputs": [
    {
     "name": "stdout",
     "output_type": "stream",
     "text": [
      "(1000, 28, 28, 1)\n",
      "0.00848576877189041\n"
     ]
    }
   ],
   "source": []
  },
  {
   "cell_type": "code",
   "execution_count": 24,
   "id": "50e1679f",
   "metadata": {},
   "outputs": [
    {
     "name": "stdout",
     "output_type": "stream",
     "text": [
      "(1000, 28, 28, 1)\n"
     ]
    }
   ],
   "source": []
  },
  {
   "cell_type": "code",
   "execution_count": 92,
   "id": "715f9eba",
   "metadata": {},
   "outputs": [
    {
     "data": {
      "text/plain": [
       "<matplotlib.image.AxesImage at 0x7fcd92689ed0>"
      ]
     },
     "execution_count": 92,
     "metadata": {},
     "output_type": "execute_result"
    },
    {
     "data": {
      "image/png": "[encoded data removed]",
      "text/plain": [
       "<Figure size 432x288 with 1 Axes>"
      ]
     },
     "metadata": {
      "needs_background": "light"
     },
     "output_type": "display_data"
    }
   ],
   "source": [
    "idx=17\n",
    "I=X['mnist']['train'][idx:(idx+1)]\n",
    "plt.imshow(I[0,:,:,0])"
   ]
  },
  {
   "cell_type": "code",
   "execution_count": 94,
   "id": "5d9ef765",
   "metadata": {},
   "outputs": [
    {
     "name": "stdout",
     "output_type": "stream",
     "text": [
      "Predicted h tf.Tensor([[[[0.33167842]]]], shape=(1, 1, 1, 1), dtype=float64)\n"
     ]
    },
    {
     "data": {
      "image/png": "[encoded data removed]",
      "text/plain": [
       "<Figure size 432x288 with 1 Axes>"
      ]
     },
     "metadata": {
      "needs_background": "light"
     },
     "output_type": "display_data"
    },
    {
     "name": "stdout",
     "output_type": "stream",
     "text": [
      "Predicted h tf.Tensor([[[[0.33865085]]]], shape=(1, 1, 1, 1), dtype=float64)\n"
     ]
    },
    {
     "data": {
      "image/png": "[encoded data removed]",
      "text/plain": [
       "<Figure size 432x288 with 1 Axes>"
      ]
     },
     "metadata": {
      "needs_background": "light"
     },
     "output_type": "display_data"
    },
    {
     "name": "stdout",
     "output_type": "stream",
     "text": [
      "Predicted h tf.Tensor([[[[0.34562322]]]], shape=(1, 1, 1, 1), dtype=float64)\n"
     ]
    },
    {
     "data": {
      "image/png": "[encoded data removed]",
      "text/plain": [
       "<Figure size 432x288 with 1 Axes>"
      ]
     },
     "metadata": {
      "needs_background": "light"
     },
     "output_type": "display_data"
    },
    {
     "name": "stdout",
     "output_type": "stream",
     "text": [
      "Predicted h tf.Tensor([[[[0.35259551]]]], shape=(1, 1, 1, 1), dtype=float64)\n"
     ]
    },
    {
     "data": {
      "image/png": "[encoded data removed]",
      "text/plain": [
       "<Figure size 432x288 with 1 Axes>"
      ]
     },
     "metadata": {
      "needs_background": "light"
     },
     "output_type": "display_data"
    },
    {
     "name": "stdout",
     "output_type": "stream",
     "text": [
      "Predicted h tf.Tensor([[[[0.35956785]]]], shape=(1, 1, 1, 1), dtype=float64)\n"
     ]
    },
    {
     "data": {
      "image/png": "[encoded data removed]",
      "text/plain": [
       "<Figure size 432x288 with 1 Axes>"
      ]
     },
     "metadata": {
      "needs_background": "light"
     },
     "output_type": "display_data"
    },
    {
     "name": "stdout",
     "output_type": "stream",
     "text": [
      "Predicted h tf.Tensor([[[[0.36654016]]]], shape=(1, 1, 1, 1), dtype=float64)\n"
     ]
    },
    {
     "data": {
      "image/png": "[encoded data removed]",
      "text/plain": [
       "<Figure size 432x288 with 1 Axes>"
      ]
     },
     "metadata": {
      "needs_background": "light"
     },
     "output_type": "display_data"
    },
    {
     "name": "stdout",
     "output_type": "stream",
     "text": [
      "Predicted h tf.Tensor([[[[0.37351272]]]], shape=(1, 1, 1, 1), dtype=float64)\n"
     ]
    },
    {
     "data": {
      "image/png": "[encoded data removed]",
      "text/plain": [
       "<Figure size 432x288 with 1 Axes>"
      ]
     },
     "metadata": {
      "needs_background": "light"
     },
     "output_type": "display_data"
    },
    {
     "name": "stdout",
     "output_type": "stream",
     "text": [
      "Predicted h tf.Tensor([[[[0.38048503]]]], shape=(1, 1, 1, 1), dtype=float64)\n"
     ]
    },
    {
     "data": {
      "image/png": "[encoded data removed]",
      "text/plain": [
       "<Figure size 432x288 with 1 Axes>"
      ]
     },
     "metadata": {
      "needs_background": "light"
     },
     "output_type": "display_data"
    },
    {
     "name": "stdout",
     "output_type": "stream",
     "text": [
      "Predicted h tf.Tensor([[[[0.38745743]]]], shape=(1, 1, 1, 1), dtype=float64)\n"
     ]
    },
    {
     "data": {
      "image/png": "[encoded data removed]",
      "text/plain": [
       "<Figure size 432x288 with 1 Axes>"
      ]
     },
     "metadata": {
      "needs_background": "light"
     },
     "output_type": "display_data"
    },
    {
     "name": "stdout",
     "output_type": "stream",
     "text": [
      "Predicted h tf.Tensor([[[[0.39442977]]]], shape=(1, 1, 1, 1), dtype=float64)\n"
     ]
    },
    {
     "data": {
      "image/png": "[encoded data removed]",
      "text/plain": [
       "<Figure size 432x288 with 1 Axes>"
      ]
     },
     "metadata": {
      "needs_background": "light"
     },
     "output_type": "display_data"
    },
    {
     "name": "stdout",
     "output_type": "stream",
     "text": [
      "Predicted h tf.Tensor([[[[0.40140212]]]], shape=(1, 1, 1, 1), dtype=float64)\n"
     ]
    },
    {
     "data": {
      "image/png": "[encoded data removed]",
      "text/plain": [
       "<Figure size 432x288 with 1 Axes>"
      ]
     },
     "metadata": {
      "needs_background": "light"
     },
     "output_type": "display_data"
    },
    {
     "name": "stdout",
     "output_type": "stream",
     "text": [
      "Predicted h tf.Tensor([[[[0.40837455]]]], shape=(1, 1, 1, 1), dtype=float64)\n"
     ]
    },
    {
     "data": {
      "image/png": "[encoded data removed]",
      "text/plain": [
       "<Figure size 432x288 with 1 Axes>"
      ]
     },
     "metadata": {
      "needs_background": "light"
     },
     "output_type": "display_data"
    },
    {
     "name": "stdout",
     "output_type": "stream",
     "text": [
      "Predicted h tf.Tensor([[[[0.41534689]]]], shape=(1, 1, 1, 1), dtype=float64)\n"
     ]
    },
    {
     "data": {
      "image/png": "[encoded data removed]",
      "text/plain": [
       "<Figure size 432x288 with 1 Axes>"
      ]
     },
     "metadata": {
      "needs_background": "light"
     },
     "output_type": "display_data"
    },
    {
     "name": "stdout",
     "output_type": "stream",
     "text": [
      "Predicted h tf.Tensor([[[[0.42231923]]]], shape=(1, 1, 1, 1), dtype=float64)\n"
     ]
    },
    {
     "data": {
      "image/png": "[encoded data removed]",
      "text/plain": [
       "<Figure size 432x288 with 1 Axes>"
      ]
     },
     "metadata": {
      "needs_background": "light"
     },
     "output_type": "display_data"
    },
    {
     "name": "stdout",
     "output_type": "stream",
     "text": [
      "Predicted h tf.Tensor([[[[0.42929167]]]], shape=(1, 1, 1, 1), dtype=float64)\n"
     ]
    },
    {
     "data": {
      "image/png": "[encoded data removed]",
      "text/plain": [
       "<Figure size 432x288 with 1 Axes>"
      ]
     },
     "metadata": {
      "needs_background": "light"
     },
     "output_type": "display_data"
    },
    {
     "name": "stdout",
     "output_type": "stream",
     "text": [
      "Predicted h tf.Tensor([[[[0.43626401]]]], shape=(1, 1, 1, 1), dtype=float64)\n"
     ]
    },
    {
     "data": {
      "image/png": "[encoded data removed]",
      "text/plain": [
       "<Figure size 432x288 with 1 Axes>"
      ]
     },
     "metadata": {
      "needs_background": "light"
     },
     "output_type": "display_data"
    },
    {
     "name": "stdout",
     "output_type": "stream",
     "text": [
      "Predicted h tf.Tensor([[[[0.44323638]]]], shape=(1, 1, 1, 1), dtype=float64)\n"
     ]
    },
    {
     "data": {
      "image/png": "[encoded data removed]",
      "text/plain": [
       "<Figure size 432x288 with 1 Axes>"
      ]
     },
     "metadata": {
      "needs_background": "light"
     },
     "output_type": "display_data"
    },
    {
     "name": "stdout",
     "output_type": "stream",
     "text": [
      "Predicted h tf.Tensor([[[[0.45020884]]]], shape=(1, 1, 1, 1), dtype=float64)\n"
     ]
    },
    {
     "data": {
      "image/png": "[encoded data removed]",
      "text/plain": [
       "<Figure size 432x288 with 1 Axes>"
      ]
     },
     "metadata": {
      "needs_background": "light"
     },
     "output_type": "display_data"
    },
    {
     "name": "stdout",
     "output_type": "stream",
     "text": [
      "Predicted h tf.Tensor([[[[0.45718122]]]], shape=(1, 1, 1, 1), dtype=float64)\n"
     ]
    },
    {
     "data": {
      "image/png": "[encoded data removed]",
      "text/plain": [
       "<Figure size 432x288 with 1 Axes>"
      ]
     },
     "metadata": {
      "needs_background": "light"
     },
     "output_type": "display_data"
    },
    {
     "name": "stdout",
     "output_type": "stream",
     "text": [
      "Predicted h tf.Tensor([[[[0.46415344]]]], shape=(1, 1, 1, 1), dtype=float64)\n"
     ]
    },
    {
     "data": {
      "image/png": "[encoded data removed]",
      "text/plain": [
       "<Figure size 432x288 with 1 Axes>"
      ]
     },
     "metadata": {
      "needs_background": "light"
     },
     "output_type": "display_data"
    },
    {
     "name": "stdout",
     "output_type": "stream",
     "text": [
      "Predicted h tf.Tensor([[[[0.33167842]]]], shape=(1, 1, 1, 1), dtype=float64)\n"
     ]
    },
    {
     "data": {
      "image/png": "[encoded data removed]",
      "text/plain": [
       "<Figure size 432x288 with 1 Axes>"
      ]
     },
     "metadata": {
      "needs_background": "light"
     },
     "output_type": "display_data"
    },
    {
     "name": "stdout",
     "output_type": "stream",
     "text": [
      "Predicted h tf.Tensor([[[[0.34142298]]]], shape=(1, 1, 1, 1), dtype=float64)\n"
     ]
    },
    {
     "data": {
      "image/png": "[encoded data removed]",
      "text/plain": [
       "<Figure size 432x288 with 1 Axes>"
      ]
     },
     "metadata": {
      "needs_background": "light"
     },
     "output_type": "display_data"
    },
    {
     "name": "stdout",
     "output_type": "stream",
     "text": [
      "Predicted h tf.Tensor([[[[0.3511675]]]], shape=(1, 1, 1, 1), dtype=float64)\n"
     ]
    },
    {
     "data": {
      "image/png": "[encoded data removed]",
      "text/plain": [
       "<Figure size 432x288 with 1 Axes>"
      ]
     },
     "metadata": {
      "needs_background": "light"
     },
     "output_type": "display_data"
    },
    {
     "name": "stdout",
     "output_type": "stream",
     "text": [
      "Predicted h tf.Tensor([[[[0.36092532]]]], shape=(1, 1, 1, 1), dtype=float64)\n"
     ]
    },
    {
     "data": {
      "image/png": "[encoded data removed]",
      "text/plain": [
       "<Figure size 432x288 with 1 Axes>"
      ]
     },
     "metadata": {
      "needs_background": "light"
     },
     "output_type": "display_data"
    },
    {
     "name": "stdout",
     "output_type": "stream",
     "text": [
      "Predicted h tf.Tensor([[[[0.37132478]]]], shape=(1, 1, 1, 1), dtype=float64)\n"
     ]
    },
    {
     "data": {
      "image/png": "[encoded data removed]",
      "text/plain": [
       "<Figure size 432x288 with 1 Axes>"
      ]
     },
     "metadata": {
      "needs_background": "light"
     },
     "output_type": "display_data"
    },
    {
     "name": "stdout",
     "output_type": "stream",
     "text": [
      "Predicted h tf.Tensor([[[[0.38213241]]]], shape=(1, 1, 1, 1), dtype=float64)\n"
     ]
    },
    {
     "data": {
      "image/png": "[encoded data removed]",
      "text/plain": [
       "<Figure size 432x288 with 1 Axes>"
      ]
     },
     "metadata": {
      "needs_background": "light"
     },
     "output_type": "display_data"
    },
    {
     "name": "stdout",
     "output_type": "stream",
     "text": [
      "Predicted h tf.Tensor([[[[0.3929401]]]], shape=(1, 1, 1, 1), dtype=float64)\n"
     ]
    },
    {
     "data": {
      "image/png": "[encoded data removed]",
      "text/plain": [
       "<Figure size 432x288 with 1 Axes>"
      ]
     },
     "metadata": {
      "needs_background": "light"
     },
     "output_type": "display_data"
    },
    {
     "name": "stdout",
     "output_type": "stream",
     "text": [
      "Predicted h tf.Tensor([[[[0.40382248]]]], shape=(1, 1, 1, 1), dtype=float64)\n"
     ]
    },
    {
     "data": {
      "image/png": "[encoded data removed]",
      "text/plain": [
       "<Figure size 432x288 with 1 Axes>"
      ]
     },
     "metadata": {
      "needs_background": "light"
     },
     "output_type": "display_data"
    },
    {
     "name": "stdout",
     "output_type": "stream",
     "text": [
      "Predicted h tf.Tensor([[[[0.41523394]]]], shape=(1, 1, 1, 1), dtype=float64)\n"
     ]
    },
    {
     "data": {
      "image/png": "[encoded data removed]",
      "text/plain": [
       "<Figure size 432x288 with 1 Axes>"
      ]
     },
     "metadata": {
      "needs_background": "light"
     },
     "output_type": "display_data"
    },
    {
     "name": "stdout",
     "output_type": "stream",
     "text": [
      "Predicted h tf.Tensor([[[[0.42810979]]]], shape=(1, 1, 1, 1), dtype=float64)\n"
     ]
    },
    {
     "data": {
      "image/png": "[encoded data removed]",
      "text/plain": [
       "<Figure size 432x288 with 1 Axes>"
      ]
     },
     "metadata": {
      "needs_background": "light"
     },
     "output_type": "display_data"
    },
    {
     "name": "stdout",
     "output_type": "stream",
     "text": [
      "Predicted h tf.Tensor([[[[0.44098532]]]], shape=(1, 1, 1, 1), dtype=float64)\n"
     ]
    },
    {
     "data": {
      "image/png": "[encoded data removed]",
      "text/plain": [
       "<Figure size 432x288 with 1 Axes>"
      ]
     },
     "metadata": {
      "needs_background": "light"
     },
     "output_type": "display_data"
    },
    {
     "name": "stdout",
     "output_type": "stream",
     "text": [
      "Predicted h tf.Tensor([[[[0.45386103]]]], shape=(1, 1, 1, 1), dtype=float64)\n"
     ]
    },
    {
     "data": {
      "image/png": "[encoded data removed]",
      "text/plain": [
       "<Figure size 432x288 with 1 Axes>"
      ]
     },
     "metadata": {
      "needs_background": "light"
     },
     "output_type": "display_data"
    },
    {
     "name": "stdout",
     "output_type": "stream",
     "text": [
      "Predicted h tf.Tensor([[[[0.46680817]]]], shape=(1, 1, 1, 1), dtype=float64)\n"
     ]
    },
    {
     "data": {
      "image/png": "[encoded data removed]",
      "text/plain": [
       "<Figure size 432x288 with 1 Axes>"
      ]
     },
     "metadata": {
      "needs_background": "light"
     },
     "output_type": "display_data"
    },
    {
     "name": "stdout",
     "output_type": "stream",
     "text": [
      "Predicted h tf.Tensor([[[[0.47980788]]]], shape=(1, 1, 1, 1), dtype=float64)\n"
     ]
    },
    {
     "data": {
      "image/png": "[encoded data removed]",
      "text/plain": [
       "<Figure size 432x288 with 1 Axes>"
      ]
     },
     "metadata": {
      "needs_background": "light"
     },
     "output_type": "display_data"
    },
    {
     "name": "stdout",
     "output_type": "stream",
     "text": [
      "Predicted h tf.Tensor([[[[0.49574754]]]], shape=(1, 1, 1, 1), dtype=float64)\n"
     ]
    },
    {
     "data": {
      "image/png": "[encoded data removed]",
      "text/plain": [
       "<Figure size 432x288 with 1 Axes>"
      ]
     },
     "metadata": {
      "needs_background": "light"
     },
     "output_type": "display_data"
    },
    {
     "name": "stdout",
     "output_type": "stream",
     "text": [
      "Predicted h tf.Tensor([[[[0.51184058]]]], shape=(1, 1, 1, 1), dtype=float64)\n"
     ]
    },
    {
     "data": {
      "image/png": "[encoded data removed]",
      "text/plain": [
       "<Figure size 432x288 with 1 Axes>"
      ]
     },
     "metadata": {
      "needs_background": "light"
     },
     "output_type": "display_data"
    },
    {
     "name": "stdout",
     "output_type": "stream",
     "text": [
      "Predicted h tf.Tensor([[[[0.52793366]]]], shape=(1, 1, 1, 1), dtype=float64)\n"
     ]
    },
    {
     "data": {
      "image/png": "[encoded data removed]",
      "text/plain": [
       "<Figure size 432x288 with 1 Axes>"
      ]
     },
     "metadata": {
      "needs_background": "light"
     },
     "output_type": "display_data"
    },
    {
     "name": "stdout",
     "output_type": "stream",
     "text": [
      "Predicted h tf.Tensor([[[[0.54402685]]]], shape=(1, 1, 1, 1), dtype=float64)\n"
     ]
    },
    {
     "data": {
      "image/png": "[encoded data removed]",
      "text/plain": [
       "<Figure size 432x288 with 1 Axes>"
      ]
     },
     "metadata": {
      "needs_background": "light"
     },
     "output_type": "display_data"
    },
    {
     "name": "stdout",
     "output_type": "stream",
     "text": [
      "Predicted h tf.Tensor([[[[0.56011987]]]], shape=(1, 1, 1, 1), dtype=float64)\n"
     ]
    },
    {
     "data": {
      "image/png": "[encoded data removed]",
      "text/plain": [
       "<Figure size 432x288 with 1 Axes>"
      ]
     },
     "metadata": {
      "needs_background": "light"
     },
     "output_type": "display_data"
    },
    {
     "name": "stdout",
     "output_type": "stream",
     "text": [
      "Predicted h tf.Tensor([[[[0.57630318]]]], shape=(1, 1, 1, 1), dtype=float64)\n"
     ]
    },
    {
     "data": {
      "image/png": "[encoded data removed]",
      "text/plain": [
       "<Figure size 432x288 with 1 Axes>"
      ]
     },
     "metadata": {
      "needs_background": "light"
     },
     "output_type": "display_data"
    }
   ],
   "source": [
    "idx=17\n",
    "NOISE=np.random.random((1,28,28,1))\n",
    "for ii,i in enumerate(np.linspace(0,1,20)):\n",
    "    I=X['mnist']['train'][idx:(idx+1)]+(NOISE*i)\n",
    "    Hest=denoising_mod.predict_output_h_denoising(I)\n",
    "    print('Predicted h',denoising_mod.predict_h(I))\n",
    "    res=tf.reduce_mean(tf.math.squared_difference(Hest,I))\n",
    "    Rest=denoising_mod.predict_r_max(I)\n",
    "    #Z=X['mnist']['train'][idx][:,:,0]\n",
    "    plt.gray()\n",
    "    #plt.imshow(I[0,:,:,0])\n",
    "    #plt.axis('off')\n",
    "    #plt.show()\n",
    "    #plt.imshow(np.concatenate([I[0,:,:,0],Hest[0][:,:,0]],axis=-1))\n",
    "    #plt.axis('off')\n",
    "    #plt.show()\n",
    "    #print(tf.reduce_max(Hest[0][:,:,0]))\n",
    "    #print(tf.reduce_min(Hest[0][:,:,0]))\n",
    "    plt.imshow(np.concatenate([I[0,:,:,0],Hest[0][:,:,0]],axis=0)) #,Rest[0][:,:,0]\n",
    "    plt.axis('off')\n",
    "    plt.show()\n",
    "    plt.imsave('FigsAyoub/UniformTwoNoise'+str(ii)+'.png',np.concatenate([I[0,:,:,0],Hest[0][:,:,0]],axis=0))\n",
    "    plt.imsave('FigsAyoub/UniformRMAXTwoNoise'+str(ii)+'.png',np.concatenate([I[0,:,:,0],Hest[0][:,:,0],Rest[0][:,:,0]],axis=0))\n",
    "    \n",
    "    #print(tf.reduce_max(Rest[0][:,:,0]))\n",
    "    #print(tf.reduce_min(Rest[0][:,:,0]))\n",
    "\n",
    "    \n",
    "NOISE=np.abs(np.random.randn(1,28,28,1))\n",
    "for ii,i in enumerate(np.linspace(0,1,20)):\n",
    "    I=X['mnist']['train'][idx:(idx+1)]+(NOISE*i)\n",
    "    Hest=denoising_mod.predict_output_h_denoising(I)\n",
    "    print('Predicted h',denoising_mod.predict_h(I))\n",
    "    res=tf.reduce_mean(tf.math.squared_difference(Hest,I))\n",
    "    Rest=denoising_mod.predict_r_max(I)\n",
    "    #Z=X['mnist']['train'][idx][:,:,0]\n",
    "    plt.gray()\n",
    "    #plt.imshow(I[0,:,:,0])\n",
    "    #plt.axis('off')\n",
    "    #plt.show()\n",
    "    #plt.imshow(np.concatenate([I[0,:,:,0],Hest[0][:,:,0]],axis=-1))\n",
    "    #plt.axis('off')\n",
    "    #plt.show()\n",
    "    #print(tf.reduce_max(Hest[0][:,:,0]))\n",
    "    #print(tf.reduce_min(Hest[0][:,:,0]))\n",
    "    plt.imshow(np.concatenate([I[0,:,:,0],Hest[0][:,:,0]],axis=0)) #,Rest[0][:,:,0]\n",
    "    plt.axis('off')\n",
    "    plt.show()\n",
    "    plt.imsave('FigsAyoub/GaussianTwoNoise'+str(ii)+'.png',np.concatenate([I[0,:,:,0],Hest[0][:,:,0]],axis=0))\n",
    "    plt.imsave('FigsAyoub/GaussianRMAXTwoNoise'+str(ii)+'.png',np.concatenate([I[0,:,:,0],Hest[0][:,:,0],Rest[0][:,:,0]],axis=0))\n",
    "    \n",
    "    #print(tf.reduce_max(Rest[0][:,:,0]))\n",
    "    #print(tf.reduce_min(Rest[0][:,:,0]))\n"
   ]
  },
  {
   "cell_type": "code",
   "execution_count": 27,
   "id": "1d108274",
   "metadata": {},
   "outputs": [
    {
     "data": {
      "image/png": "[encoded data removed]",
      "text/plain": [
       "<Figure size 432x288 with 1 Axes>"
      ]
     },
     "metadata": {
      "needs_background": "light"
     },
     "output_type": "display_data"
    },
    {
     "data": {
      "image/png": "[encoded data removed]",
      "text/plain": [
       "<Figure size 432x288 with 1 Axes>"
      ]
     },
     "metadata": {
      "needs_background": "light"
     },
     "output_type": "display_data"
    },
    {
     "data": {
      "image/png": "[encoded data removed]",
      "text/plain": [
       "<Figure size 432x288 with 1 Axes>"
      ]
     },
     "metadata": {
      "needs_background": "light"
     },
     "output_type": "display_data"
    }
   ],
   "source": [
    "plt.plot(denoising_mod.historyi.history['loss'])\n",
    "plt.plot(denoising_mod.historyi.history['val_loss'])\n",
    "plt.title('model total loss')\n",
    "plt.ylabel('loss')\n",
    "plt.xlabel('epoch')\n",
    "plt.legend(['train', 'val'], loc='upper left')\n",
    "plt.show()\n",
    "\n",
    "plt.plot(denoising_mod.historyi.history['r_max_reg_loss'])\n",
    "plt.plot(denoising_mod.historyi.history['val_r_max_reg_loss'])\n",
    "plt.title('model region maxima loss')\n",
    "plt.ylabel('loss')\n",
    "plt.xlabel('epoch')\n",
    "plt.legend(['train', 'val'], loc='upper left')\n",
    "plt.show()\n",
    "\n",
    "plt.plot(denoising_mod.historyi.history['mse_denoising_loss'])\n",
    "plt.plot(denoising_mod.historyi.history['val_mse_denoising_loss'])\n",
    "plt.title('model mse denoising loss')\n",
    "plt.ylabel('loss')\n",
    "plt.xlabel('epoch')\n",
    "plt.legend(['train', 'val'], loc='upper left')\n",
    "plt.show()"
   ]
  },
  {
   "cell_type": "code",
   "execution_count": null,
   "id": "bdea54f7",
   "metadata": {},
   "outputs": [],
   "source": [
    "plt.gray()\n",
    "for database in ['fashion','mnist']:\n",
    "    print(database)\n",
    "    \n",
    "    ##################################################\n",
    "    ## MODEL 0: CNN DENOISING without AUGMENTATION\n",
    "    denoising_mod_CNN.denoising_block.trainable=False\n",
    "    loss =tf.losses.CategoricalCrossentropy()\n",
    "    opt = tf.keras.optimizers.Adam(learning_rate=0.001)\n",
    "    xin=kl.Input(shape=tf.TensorShape((28,28,1)), dtype=tf.double)\n",
    "    xin_noised = xin\n",
    "    denoise = denoising_mod_CNN.nn_output_h_denoising(xin_noised)\n",
    "    x = kl.Conv2D(32, kernel_size=(3,3), activation='relu')(denoise)\n",
    "    x = kl.Conv2D(32, kernel_size=(3,3), activation='relu')(x)\n",
    "    x = kl.MaxPooling2D(pool_size=(3,3))(x)\n",
    "    x = kl.Dropout(0.5)(x)\n",
    "    x = kl.Flatten()(x)\n",
    "    output = kl.Dense(10,activation=\"softmax\", name='classification')(x)\n",
    "    model_CNN_CNN = tf.keras.Model(xin, output)\n",
    "    model_CNN_CNN.compile(optimizer=opt, loss=loss, metrics=[\"accuracy\"])\n",
    "    hist_CNN_CNN = model_CNN_CNN.fit(x=X[database]['train'], y=y[database]['train'], batch_size=256, validation_split=0.2, epochs=50)\n",
    "\n",
    "    \n",
    "    ##################################################\n",
    "    ## MODEL 0: CNN DENOISING with AUGMENTATION\n",
    "    denoising_mod_CNN.denoising_block.trainable=False\n",
    "    loss =tf.losses.CategoricalCrossentropy()\n",
    "    opt = tf.keras.optimizers.Adam(learning_rate=0.001)\n",
    "    xin=kl.Input(shape=tf.TensorShape((28,28,1)), dtype=tf.double)\n",
    "    #xin_noised = 0.1 + kl.GaussianNoise(0.1)(xin)\n",
    "    xin_noised = kl.GaussianNoise(0.1)(xin)\n",
    "    denoise = denoising_mod_CNN.nn_output_h_denoising(xin_noised)\n",
    "    x = kl.Conv2D(32, kernel_size=(3,3), activation='relu')(denoise)\n",
    "    x = kl.Conv2D(32, kernel_size=(3,3), activation='relu')(x)\n",
    "    x = kl.MaxPooling2D(pool_size=(3,3))(x)\n",
    "    x = kl.Dropout(0.5)(x)\n",
    "    x = kl.Flatten()(x)\n",
    "    output = kl.Dense(10,activation=\"softmax\", name='classification')(x)\n",
    "    model_CNN_CNN_NOISE = tf.keras.Model(xin, output)\n",
    "    model_CNN_CNN_NOISE.compile(optimizer=opt, loss=loss, metrics=[\"accuracy\"])\n",
    "    hist_CNN_CNN_NOISE = model_CNN_CNN_NOISE.fit(x=X[database]['train'], y=y[database]['train'], batch_size=256, validation_split=0.2, epochs=50)\n",
    " \n",
    "\n",
    "    \n",
    "    \n",
    "    ##################################################\n",
    "    ## MODEL 1: PROPOSED without AUGMENTATION\n",
    "    denoising_mod.nn_output_h_denoising.trainable=False\n",
    "    loss =tf.losses.CategoricalCrossentropy()\n",
    "    opt = tf.keras.optimizers.Adam(learning_rate=0.001)\n",
    "    xin=kl.Input(shape=tf.TensorShape((28,28,1)), dtype=tf.double)\n",
    "    xin_noised = xin\n",
    "    denoise = denoising_mod.nn_output_h_denoising(xin_noised)\n",
    "    x = kl.Conv2D(32, kernel_size=(3,3), activation='relu')(denoise)\n",
    "    x = kl.Conv2D(32, kernel_size=(3,3), activation='relu')(x)\n",
    "    x = kl.MaxPooling2D(pool_size=(3,3))(x)\n",
    "    x = kl.Dropout(0.5)(x)\n",
    "    x = kl.Flatten()(x)\n",
    "    output = kl.Dense(10,activation=\"softmax\", name='classification')(x)\n",
    "    model_H = tf.keras.Model(xin, output)\n",
    "    model_H.compile(optimizer=opt, loss=loss, metrics=[\"accuracy\"])\n",
    "    hist = model_H.fit(x=X[database]['train'], y=y[database]['train'], batch_size=256, validation_split=0.2, epochs=50)\n",
    "    \n",
    "    ##################################################\n",
    "    ##MODEL 2: PROPOSED with AUGMENTATION\n",
    "    \n",
    "    denoising_mod.nn_output_h_denoising.trainable=False\n",
    "    loss =tf.losses.CategoricalCrossentropy()\n",
    "    opt = tf.keras.optimizers.Adam(learning_rate=0.001)\n",
    "    xin=kl.Input(shape=tf.TensorShape((28,28,1)), dtype=tf.double)\n",
    "    #xin_noised = 0.1 + kl.GaussianNoise(0.1)(xin)\n",
    "    xin_noised = kl.GaussianNoise(0.1)(xin)\n",
    "    denoise = denoising_mod.nn_output_h_denoising(xin_noised)\n",
    "    x = kl.Conv2D(32, kernel_size=(3,3), activation='relu')(denoise)\n",
    "    x = kl.Conv2D(32, kernel_size=(3,3), activation='relu')(x)\n",
    "    x = kl.MaxPooling2D(pool_size=(3,3))(x)\n",
    "    x = kl.Dropout(0.5)(x)\n",
    "    x = kl.Flatten()(x)\n",
    "    output = kl.Dense(10,activation=\"softmax\", name='classification')(x)\n",
    "    model_H_NOISE = tf.keras.Model(xin, output)\n",
    "    model_H_NOISE.compile(optimizer=opt, loss=loss, metrics=[\"accuracy\"])\n",
    "    hist_NOISE = model_H_NOISE.fit(x=X[database]['train'], y=y[database]['train'], batch_size=256, validation_split=0.2, epochs=50)\n",
    "\n",
    "    ##################################################\n",
    "    ##MODEL 3: CLASSICAL CNN without augmentation\n",
    "    xin=kl.Input(shape=tf.TensorShape((28,28,1)), dtype=tf.double)\n",
    "    xin_noised = xin\n",
    "    x = kl.Conv2D(32, kernel_size=(3,3), activation='relu')(xin_noised)\n",
    "    x = kl.Conv2D(32, kernel_size=(3,3), activation='relu')(x)\n",
    "    x = kl.MaxPooling2D(pool_size=(3,3))(x)\n",
    "    x = kl.Dropout(0.5)(x)\n",
    "    x = kl.Flatten()(x)\n",
    "    output = kl.Dense(10,activation=\"softmax\", name='classification')(x)\n",
    "    model_CNN = tf.keras.Model(xin, output)\n",
    "    model_CNN.compile(optimizer=opt, loss=loss, metrics=[\"accuracy\"])\n",
    "    hist_CNN = model_CNN.fit(x=X[database]['train'], y=y[database]['train'], batch_size=256, validation_split=0.2, epochs=50)\n",
    "\n",
    "    ##################################################\n",
    "    ##MODEL 4: CLASSICAL CNN with augmentation\n",
    "    xin=kl.Input(shape=tf.TensorShape((28,28,1)), dtype=tf.double)\n",
    "    xin_noised = kl.GaussianNoise(0.1)(xin)\n",
    "    #xin_noised = 0.1 + kl.GaussianNoise(0.1)(xin)\n",
    "    x = kl.Conv2D(32, kernel_size=(3,3), activation='relu')(xin_noised)\n",
    "    x = kl.Conv2D(32, kernel_size=(3,3), activation='relu')(x)\n",
    "    x = kl.MaxPooling2D(pool_size=(3,3))(x)\n",
    "    x = kl.Dropout(0.5)(x)\n",
    "    x = kl.Flatten()(x)\n",
    "    output = kl.Dense(10,activation=\"softmax\", name='classification')(x)\n",
    "    model_CNN_NOISE = tf.keras.Model(xin, output)\n",
    "    model_CNN_NOISE.compile(optimizer=opt, loss=loss, metrics=[\"accuracy\"])\n",
    "    hist_CNN_NOISE = model_CNN_NOISE.fit(x=X[database]['train'], y=y[database]['train'], batch_size=256, validation_split=0.2, epochs=50)\n",
    "\n",
    "    print('Staring comparison on noise images')\n",
    "    for noise_type in ['uniform','normal']:\n",
    "        accCNN_CNN=[]\n",
    "        accCNN_CNN_NOISE=[]\n",
    "        accCNN=[]\n",
    "        accCNN_NOISE=[]\n",
    "        accH=[]\n",
    "        accH_NOISE=[]    \n",
    "        for i in tf.linspace(0,1,20):\n",
    "            i = tf.cast(i, tf.float32)\n",
    "            # X_pred = X[\"mnist\"][\"test\"]+tf.multiply(X[\"mnist\"][\"test\"], tf.cast(tf.abs(kl.GaussianNoise(i)(tf.zeros(shape=tf.TensorShape(X[\"mnist\"][\"test\"].shape)), training=True)), tf.double))\n",
    "            if noise_type=='uniform':\n",
    "                X_pred = X[database][\"test\"] + tf.cast(tf.random.uniform(X[database][\"test\"].shape, 0., i), tf .double)\n",
    "            elif noise_type=='normal':\n",
    "                X_pred = X[database][\"test\"] + tf.cast(tf.random.normal(X[database][\"test\"].shape, 0., i), tf .double)\n",
    "            plt.imshow(X_pred[0,:,:,0])\n",
    "            plt.axis('off')\n",
    "            plt.show()\n",
    "            accCNN_CNN.append(model_CNN_CNN.evaluate(X_pred, y[database][\"test\"], batch_size=512, verbose=0)[1])\n",
    "            accCNN_CNN_NOISE.append(model_CNN_CNN_NOISE.evaluate(X_pred, y[database][\"test\"], batch_size=512, verbose=0)[1])\n",
    "            accCNN.append(model_CNN.evaluate(X_pred, y[database][\"test\"], batch_size=512, verbose=0)[1])\n",
    "            accCNN_NOISE.append(model_CNN_NOISE.evaluate(X_pred, y[database][\"test\"], batch_size=512, verbose=0)[1])\n",
    "            accH.append(model_H.evaluate(X_pred, y[database][\"test\"], batch_size=512, verbose=0)[1])\n",
    "            accH_NOISE.append(model_H_NOISE.evaluate(X_pred, y[database][\"test\"], batch_size=512, verbose=0)[1])\n",
    "        np.save(noise_type+database+'accCNN_CNN',accCNN_CNN)\n",
    "        np.save(noise_type+database+'accCNN_CNN_NOISE',accCNN_CNN_NOISE)\n",
    "        np.save(noise_type+database+'accCNN',accCNN)\n",
    "        np.save(noise_type+database+'accCNN_NOISE',accCNN_NOISE)\n",
    "        np.save(noise_type+database+'accCNNH',accH)\n",
    "        np.save(noise_type+database+'accCNNH_NOISE',accH_NOISE)\n",
    "    #plt.savefig('FigsAyoub/'+database+'_COMPARISON_RESULT.pgf')\n",
    "    \n",
    "    "
   ]
  },
  {
   "cell_type": "code",
   "execution_count": null,
   "id": "effd7943",
   "metadata": {},
   "outputs": [],
   "source": [
    "for save_fig in [False,True]:\n",
    "    if save_fig:\n",
    "        import matplotlib\n",
    "        matplotlib.use(\"pgf\")\n",
    "        matplotlib.rcParams.update({\n",
    "            \"pgf.texsystem\": \"pdflatex\",\n",
    "            'font.family': 'serif',\n",
    "            'text.usetex': True,\n",
    "            'pgf.rcfonts': False,\n",
    "        })\n",
    "    database_list=['mnist','fashion']\n",
    "    database_name=['MNIST','FASHION MNIST']\n",
    "    noise_type=['uniform','normal']\n",
    "    for noisename in noise_type:\n",
    "        for database,databasename in zip(database_list,database_name):\n",
    "            accCNN_CNN=np.load(noisename+database+'accCNN_CNN.npy')\n",
    "            accCNN_CNN_NOISE=np.load(noisename+database+'accCNN_CNN_NOISE.npy')\n",
    "            accCNN=np.load(noisename+database+'accCNN.npy')\n",
    "            accCNN_NOISE=np.load(noisename+database+'accCNN_NOISE.npy')\n",
    "            accH=np.load(noisename+database+'accCNNH.npy')\n",
    "            accH_NOISE=np.load(noisename+database+'accCNNH_NOISE.npy')\n",
    "            plt.figure()\n",
    "            plt.plot(np.linspace(0,1,20),accCNN,label='CNN')\n",
    "            plt.plot(np.linspace(0,1,20),accCNN_NOISE,label='CNN Augmentation')\n",
    "            plt.plot(np.linspace(0,1,20),accCNN_CNN,label='CNN_CNN')\n",
    "            plt.plot(np.linspace(0,1,20),accCNN_CNN_NOISE,label='CNN_CNN Augmentation')\n",
    "            plt.plot(np.linspace(0,1,20),accH,label='HMAX CNN')\n",
    "            plt.plot(np.linspace(0,1,20),accH_NOISE,label='HMAX CNN Augmentation')\n",
    "            plt.xlim([0,1])\n",
    "            if save_fig:\n",
    "                print('.')\n",
    "            else:\n",
    "                plt.title(databasename+' '+noisename+' noise')\n",
    "            plt.xlabel('Noise Level')\n",
    "            plt.ylabel('Accuracy in Test')\n",
    "            plt.grid()\n",
    "            plt.legend()\n",
    "            if save_fig:\n",
    "                plt.savefig('FigsEMD/Ayoub'+database+noisename+'.pgf')\n",
    "            else:\n",
    "                plt.show()"
   ]
  },
  {
   "cell_type": "code",
   "execution_count": 95,
   "id": "5e7e321a",
   "metadata": {},
   "outputs": [
    {
     "data": {
      "text/plain": [
       "'/home/velasco/tf2'"
      ]
     },
     "execution_count": 95,
     "metadata": {},
     "output_type": "execute_result"
    }
   ],
   "source": [
    "pwd"
   ]
  },
  {
   "cell_type": "code",
   "execution_count": null,
   "id": "57949d79",
   "metadata": {},
   "outputs": [],
   "source": []
  }
 ],
 "metadata": {
  "kernelspec": {
   "display_name": "Python 3",
   "language": "python",
   "name": "python3"
  },
  "language_info": {
   "codemirror_mode": {
    "name": "ipython",
    "version": 3
   },
   "file_extension": ".py",
   "mimetype": "text/x-python",
   "name": "python",
   "nbconvert_exporter": "python",
   "pygments_lexer": "ipython3",
   "version": "3.7.10"
  }
 },
 "nbformat": 4,
 "nbformat_minor": 5
}
